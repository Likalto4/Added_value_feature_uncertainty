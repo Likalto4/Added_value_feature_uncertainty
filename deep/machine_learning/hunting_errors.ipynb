{
 "cells": [
  {
   "cell_type": "code",
   "execution_count": 1,
   "metadata": {},
   "outputs": [],
   "source": [
    "# add repo path to the system path\n",
    "from pathlib import Path\n",
    "import os, sys\n",
    "repo_path= Path.cwd().resolve()\n",
    "while '.gitignore' not in os.listdir(repo_path): # while not in the root of the repo\n",
    "    repo_path = repo_path.parent #go up one level\n",
    "sys.path.insert(0,str(repo_path)) if str(repo_path) not in sys.path else None\n",
    "\n",
    "import pandas as pd\n",
    "import numpy as np\n",
    "from matplotlib import pyplot as plt\n",
    "\n",
    "import sklearn\n",
    "# normalize the features\n",
    "from sklearn.preprocessing import StandardScaler\n",
    "# classifiers\n",
    "from sklearn.svm import SVC\n",
    "from sklearn.linear_model import LogisticRegression\n",
    "from sklearn.model_selection import GridSearchCV\n",
    "# use leave one out cross validation\n",
    "from sklearn.model_selection import LeaveOneOut\n",
    "# metrics\n",
    "from sklearn.metrics import ConfusionMatrixDisplay, confusion_matrix, accuracy_score, f1_score, precision_score, recall_score, roc_auc_score\n",
    "from sklearn.metrics import roc_curve"
   ]
  },
  {
   "cell_type": "code",
   "execution_count": 14,
   "metadata": {},
   "outputs": [
    {
     "name": "stdout",
     "output_type": "stream",
     "text": [
      "Test index:[0], Real: [1], Predicted: [0.93749972 0.06250028], coeficients: [-2.70804534]\n",
      "Test index:[1], Real: [1], Predicted: [0.93749972 0.06250028], coeficients: [-2.70804534]\n",
      "Test index:[2], Real: [1], Predicted: [0.93749972 0.06250028], coeficients: [-2.70804534]\n",
      "Test index:[3], Real: [0], Predicted: [0.90624753 0.09375247], coeficients: [-2.26865443]\n",
      "Test index:[4], Real: [0], Predicted: [0.90624753 0.09375247], coeficients: [-2.26865443]\n",
      "Test index:[5], Real: [0], Predicted: [0.90624753 0.09375247], coeficients: [-2.26865443]\n",
      "Test index:[6], Real: [0], Predicted: [0.90624753 0.09375247], coeficients: [-2.26865443]\n",
      "Test index:[7], Real: [0], Predicted: [0.90624753 0.09375247], coeficients: [-2.26865443]\n",
      "Test index:[8], Real: [0], Predicted: [0.90624753 0.09375247], coeficients: [-2.26865443]\n",
      "Test index:[9], Real: [0], Predicted: [0.90624753 0.09375247], coeficients: [-2.26865443]\n",
      "Test index:[10], Real: [0], Predicted: [0.90624753 0.09375247], coeficients: [-2.26865443]\n",
      "Test index:[11], Real: [0], Predicted: [0.90624753 0.09375247], coeficients: [-2.26865443]\n",
      "Test index:[12], Real: [0], Predicted: [0.90624753 0.09375247], coeficients: [-2.26865443]\n",
      "Test index:[13], Real: [0], Predicted: [0.90624753 0.09375247], coeficients: [-2.26865443]\n",
      "Test index:[14], Real: [0], Predicted: [0.90624753 0.09375247], coeficients: [-2.26865443]\n",
      "Test index:[15], Real: [0], Predicted: [0.90624753 0.09375247], coeficients: [-2.26865443]\n",
      "Test index:[16], Real: [0], Predicted: [0.90624753 0.09375247], coeficients: [-2.26865443]\n",
      "Test index:[17], Real: [0], Predicted: [0.90624753 0.09375247], coeficients: [-2.26865443]\n",
      "Test index:[18], Real: [0], Predicted: [0.90624753 0.09375247], coeficients: [-2.26865443]\n",
      "Test index:[19], Real: [0], Predicted: [0.90624753 0.09375247], coeficients: [-2.26865443]\n",
      "Test index:[20], Real: [0], Predicted: [0.90624753 0.09375247], coeficients: [-2.26865443]\n",
      "Test index:[21], Real: [0], Predicted: [0.90624753 0.09375247], coeficients: [-2.26865443]\n",
      "Test index:[22], Real: [0], Predicted: [0.90624753 0.09375247], coeficients: [-2.26865443]\n",
      "Test index:[23], Real: [0], Predicted: [0.90624753 0.09375247], coeficients: [-2.26865443]\n",
      "Test index:[24], Real: [0], Predicted: [0.90624753 0.09375247], coeficients: [-2.26865443]\n",
      "Test index:[25], Real: [0], Predicted: [0.90624753 0.09375247], coeficients: [-2.26865443]\n",
      "Test index:[26], Real: [0], Predicted: [0.90624753 0.09375247], coeficients: [-2.26865443]\n",
      "Test index:[27], Real: [0], Predicted: [0.90624753 0.09375247], coeficients: [-2.26865443]\n",
      "Test index:[28], Real: [0], Predicted: [0.90624753 0.09375247], coeficients: [-2.26865443]\n",
      "Test index:[29], Real: [0], Predicted: [0.90624753 0.09375247], coeficients: [-2.26865443]\n",
      "Test index:[30], Real: [0], Predicted: [0.90624753 0.09375247], coeficients: [-2.26865443]\n",
      "Test index:[31], Real: [0], Predicted: [0.90624753 0.09375247], coeficients: [-2.26865443]\n",
      "Test index:[32], Real: [0], Predicted: [0.90624753 0.09375247], coeficients: [-2.26865443]\n"
     ]
    },
    {
     "data": {
      "text/plain": [
       "[<matplotlib.lines.Line2D at 0x7f6da98d34c0>]"
      ]
     },
     "execution_count": 14,
     "metadata": {},
     "output_type": "execute_result"
    },
    {
     "data": {
      "image/png": "[encoded data removed]",
      "text/plain": [
       "<Figure size 640x480 with 1 Axes>"
      ]
     },
     "metadata": {},
     "output_type": "display_data"
    }
   ],
   "source": [
    "# Input data\n",
    "receptor = 'RP'\n",
    "# make all features zero\n",
    "features = pd.DataFrame(np.zeros((33,10)))\n",
    "\n",
    "# labels = dataset_INCan().labels_list(receptor)\n",
    "# labels = pd.DataFrame(labels, columns=[receptor])\n",
    "\n",
    "labels = pd.DataFrame(np.zeros((33,1)), columns=['label'], dtype=int)\n",
    "# half of the samples are positive\n",
    "labels.iloc[0:3] = 1\n",
    "\n",
    "\n",
    "# prepare for the machine\n",
    "cv = LeaveOneOut()\n",
    "scaler = StandardScaler()\n",
    "pred = LogisticRegression(class_weight=None)\n",
    "\n",
    "y_prob_list = []\n",
    "\n",
    "for train_index, test_index in cv.split(features):\n",
    "    X_train, X_test = features.iloc[train_index], features.iloc[test_index]\n",
    "    # scale the data\n",
    "    X_train = scaler.fit_transform(X_train)\n",
    "    X_test = scaler.transform(X_test)\n",
    "    # get the train and test labels\n",
    "    y_train, y_test = labels.iloc[train_index], labels.iloc[test_index]\n",
    "\n",
    "    # fit the model\n",
    "    pred.fit(X_train, y_train.values.ravel())\n",
    "    # predict the probability\n",
    "    y_prob = pred.predict_proba(X_test)\n",
    "    y_prob_list.append(y_prob)\n",
    "    print(f'Test index:{test_index}, Real: {y_test.values[0]}, Predicted: {y_prob[0]}, coeficients: {pred.intercept_}')\n",
    "    \n",
    "    if test_index[0] == 32:\n",
    "        break\n",
    "y_prob_list = np.array(y_prob_list)\n",
    "y_prob = y_prob_list.reshape(-1,2)\n",
    "\n",
    "# get roc curve\n",
    "fpr, tpr, thresholds = roc_curve(labels, y_prob[:,0])\n",
    "# get auc\n",
    "auc = roc_auc_score(labels, y_prob[:,0])\n",
    "# plot the roc curve\n",
    "plt.plot(fpr, tpr, label=f'AUC={auc}')"
   ]
  }
 ],
 "metadata": {
  "kernelspec": {
   "display_name": "cedm-deep",
   "language": "python",
   "name": "python3"
  },
  "language_info": {
   "codemirror_mode": {
    "name": "ipython",
    "version": 3
   },
   "file_extension": ".py",
   "mimetype": "text/x-python",
   "name": "python",
   "nbconvert_exporter": "python",
   "pygments_lexer": "ipython3",
   "version": "3.8.18"
  }
 },
 "nbformat": 4,
 "nbformat_minor": 2
}
