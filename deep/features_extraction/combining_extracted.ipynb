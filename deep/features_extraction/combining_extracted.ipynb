{
 "cells": [
  {
   "cell_type": "code",
   "execution_count": 1,
   "metadata": {},
   "outputs": [],
   "source": [
    "# add repo path to the system path\n",
    "from pathlib import Path\n",
    "import os, sys\n",
    "repo_path= Path.cwd().resolve()\n",
    "while '.gitignore' not in os.listdir(repo_path): # while not in the root of the repo\n",
    "    repo_path = repo_path.parent #go up one level\n",
    "sys.path.insert(0,str(repo_path)) if str(repo_path) not in sys.path else None"
   ]
  },
  {
   "cell_type": "code",
   "execution_count": 2,
   "metadata": {},
   "outputs": [],
   "source": [
    "import pandas as pd"
   ]
  },
  {
   "cell_type": "code",
   "execution_count": 4,
   "metadata": {},
   "outputs": [],
   "source": [
    "# get mean features from radiologists\n",
    "main_df = None\n",
    "for rad in ['V', 'M', 'L']:\n",
    "    for time in [1,2]:\n",
    "        # get the features, remove the first column (patient ID)\n",
    "        features = pd.read_csv(repo_path / f'data/deep/features/features_1024/{rad}_{time}_features.csv', index_col=0)\n",
    "        main_df = pd.concat([main_df, features]) if main_df is not None else features\n",
    "\n",
    "# get mean by patient\n",
    "main_df_mean = main_df.groupby('PatientID').mean()\n",
    "# saves a csv with the mean features\n",
    "main_df_mean.to_csv(repo_path / 'data/deep/features/features_1024/mean_features.csv')"
   ]
  }
 ],
 "metadata": {
  "kernelspec": {
   "display_name": "cedm-deep",
   "language": "python",
   "name": "python3"
  },
  "language_info": {
   "codemirror_mode": {
    "name": "ipython",
    "version": 3
   },
   "file_extension": ".py",
   "mimetype": "text/x-python",
   "name": "python",
   "nbconvert_exporter": "python",
   "pygments_lexer": "ipython3",
   "version": "3.8.18"
  }
 },
 "nbformat": 4,
 "nbformat_minor": 2
}
