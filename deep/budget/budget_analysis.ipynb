{
 "cells": [
  {
   "cell_type": "code",
   "execution_count": 4,
   "metadata": {},
   "outputs": [],
   "source": [
    "# add repo path to the system path\n",
    "from pathlib import Path\n",
    "import os, sys\n",
    "repo_path= Path.cwd().resolve()\n",
    "while '.gitignore' not in os.listdir(repo_path): # while not in the root of the repo\n",
    "    repo_path = repo_path.parent #go up one level\n",
    "sys.path.insert(0,str(repo_path)) if str(repo_path) not in sys.path else None\n",
    "\n",
    "os.environ['CUDA_DEVICE_ORDER']='PCI_BUS_ID'\n",
    "os.environ['CUDA_VISIBLE_DEVICES']='0'"
   ]
  },
  {
   "cell_type": "code",
   "execution_count": 8,
   "metadata": {},
   "outputs": [],
   "source": [
    "import pandas as pd\n",
    "import matplotlib.pyplot as plt\n",
    "import numpy as np\n",
    "import SimpleITK as sitk\n",
    "from tqdm import tqdm\n",
    "from IPython.display import clear_output\n",
    "from itertools import product\n",
    "import cv2 as cv\n",
    "\n",
    "from utils import patient, dataset_INCan\n",
    "from models import DBT_extractor"
   ]
  },
  {
   "cell_type": "code",
   "execution_count": 9,
   "metadata": {},
   "outputs": [],
   "source": [
    "def transformation(im: sitk.Image, parameterMap_path:str, format='np', show=False):\n",
    "    \"\"\"apply transformation to an image\n",
    "\n",
    "    Args:\n",
    "        im (sitk.Image): image to be transformed\n",
    "        parameterMap (sitk.ParameterMap): transformation settings\n",
    "        format (str, optional): output format. Defaults to 'np'.\n",
    "\n",
    "    Returns:\n",
    "        np.array or sitk.Image: transformed image\n",
    "    \"\"\"\n",
    "    transformixImageFilter = sitk.TransformixImageFilter()\n",
    "    parameterMap = sitk.ReadParameterFile(str(parameterMap_path))\n",
    "    transformixImageFilter.SetTransformParameterMap(parameterMap)\n",
    "    transformixImageFilter.SetMovingImage(im)\n",
    "    transformixImageFilter.Execute()\n",
    "    im_result = transformixImageFilter.GetResultImage()\n",
    "    clear_output(wait=show)\n",
    "    if format=='sitk':\n",
    "        return im_result\n",
    "    elif format=='np':\n",
    "        im_array = sitk.GetArrayFromImage(im_result)\n",
    "        im_array = im_array.astype(np.uint16)\n",
    "        return im_array\n",
    "    else:\n",
    "        raise ValueError('format must be \"sitk\" or \"np\"')    \n",
    "\n",
    "def points_in_circle(radius):\n",
    "    \"\"\"iterable that yields all possible combinations of x and y coordinates within cicle of fixed radius\n",
    "\n",
    "    Args:\n",
    "        radius (int): radius of circle\n",
    "\n",
    "    Yields:\n",
    "        set: set with combinations\n",
    "    \"\"\"\n",
    "    for x, y in product(range(int(radius) + 1), repeat=2):\n",
    "        if x**2 + y**2 <= radius**2:\n",
    "            yield from set(((x, y), (x, -y), (-x, y), (-x, -y),))\n",
    "\n",
    "def translate_image(im:np.array, x_trans:int, y_trans:int):\n",
    "    \"\"\"translate image given x and y translation\n",
    "\n",
    "    Args:\n",
    "        im (np.array): image to be translated\n",
    "        x_trans (int): x translation\n",
    "        y_trans (int): y translation\n",
    "\n",
    "    Returns:\n",
    "        np.array: translated image\n",
    "    \"\"\"\n",
    "    #get height and width\n",
    "    height, width = im.shape[:2]\n",
    "    #create translation matrix\n",
    "    T = np.float32([[1, 0, x_trans], [0, 1, y_trans]])\n",
    "    #translate\n",
    "    img_translation = cv.warpAffine(im, T, (width, height))\n",
    "\n",
    "    return img_translation"
   ]
  },
  {
   "cell_type": "code",
   "execution_count": 17,
   "metadata": {},
   "outputs": [],
   "source": [
    "class budget_creator():\n",
    "    def __init__(self):\n",
    "        self._init_extractor()\n",
    "        self.dataset = dataset_INCan()\n",
    "        self._init_others()\n",
    "        self.coord_list = list(self.points_in_circle(radius=2))\n",
    "        self.rad_list = ['V', 'L', 'M']\n",
    "        self.time_list = [1,2]\n",
    "\n",
    "    def __repr__(self) -> str:\n",
    "        return f'Budget creator using:\\n{self.extractor}\\n{self.dataset}\\nAround points:{self.coord_list}'\n",
    "\n",
    "    def _init_extractor(self):\n",
    "        # define extractor\n",
    "        config_file = str(repo_path / 'data/models/config_trained_R_101_30k.yaml')\n",
    "        model_file = str(repo_path / 'data/models/model_final_R_101_omidb_30k_dbt9k_f12_gray.pth')\n",
    "        min_score = 0.001 # minimum score to keep prediction\n",
    "        self.extractor = DBT_extractor(config_file, model_file, min_score)\n",
    "\n",
    "    def _init_others(self):\n",
    "        saving_dir = repo_path / 'data/budget/substractions'\n",
    "        saving_dir.mkdir(exist_ok=True, parents=True)\n",
    "        im_saving_dir = repo_path / 'data/images/substractions'\n",
    "        im_saving_dir.mkdir(exist_ok=True, parents=True)\n",
    "    \n",
    "    def points_in_circle(self, radius):\n",
    "        \"\"\"iterable that yields all possible combinations of x and y coordinates within cicle of fixed radius\n",
    "\n",
    "        Args:\n",
    "            radius (int): radius of circle\n",
    "\n",
    "        Yields:\n",
    "            set: set with combinations\n",
    "        \"\"\"\n",
    "        for x, y in product(range(int(radius) + 1), repeat=2):\n",
    "            if x**2 + y**2 <= radius**2:\n",
    "                yield from set(((x, y), (x, -y), (-x, y), (-x, -y),))\n"
   ]
  },
  {
   "cell_type": "code",
   "execution_count": 19,
   "metadata": {},
   "outputs": [
    {
     "data": {
      "text/plain": [
       "DBT_extractor(config_file=/home/ricardo/projects/Added_value_feature_uncertainty/data/models/config_trained_R_101_30k.yaml, model_file=/home/ricardo/projects/Added_value_feature_uncertainty/data/models/model_final_R_101_omidb_30k_dbt9k_f12_gray.pth, min_score=0.001)"
      ]
     },
     "execution_count": 19,
     "metadata": {},
     "output_type": "execute_result"
    }
   ],
   "source": [
    "budgeter = budget_creator()\n",
    "budgeter.extractor"
   ]
  }
 ],
 "metadata": {
  "kernelspec": {
   "display_name": "cedm-deep",
   "language": "python",
   "name": "python3"
  },
  "language_info": {
   "codemirror_mode": {
    "name": "ipython",
    "version": 3
   },
   "file_extension": ".py",
   "mimetype": "text/x-python",
   "name": "python",
   "nbconvert_exporter": "python",
   "pygments_lexer": "ipython3",
   "version": "3.8.18"
  }
 },
 "nbformat": 4,
 "nbformat_minor": 2
}
