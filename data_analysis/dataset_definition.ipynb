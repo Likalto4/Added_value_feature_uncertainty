{
 "cells": [
  {
   "cell_type": "code",
   "execution_count": 1,
   "metadata": {},
   "outputs": [],
   "source": [
    "# add repo path to the system path\n",
    "from pathlib import Path\n",
    "import os, sys\n",
    "repo_path= Path.cwd().resolve()\n",
    "while '.gitignore' not in os.listdir(repo_path): # while not in the root of the repo\n",
    "    repo_path = repo_path.parent #go up one level\n",
    "sys.path.insert(0,str(repo_path)) if str(repo_path) not in sys.path else None"
   ]
  },
  {
   "cell_type": "code",
   "execution_count": 270,
   "metadata": {},
   "outputs": [],
   "source": [
    "import pandas as pd\n",
    "import SimpleITK as sitk\n",
    "import numpy as np\n",
    "import matplotlib.pyplot as plt"
   ]
  },
  {
   "cell_type": "markdown",
   "metadata": {},
   "source": [
    "# Dataset metadata file"
   ]
  },
  {
   "cell_type": "markdown",
   "metadata": {},
   "source": [
    "It is a good idea to create a csv with the relevant information of the dataset:\n",
    "- pat_id, image and lesion paths, endpoint labels, etc.\n",
    "This later can be used to create the dataset object."
   ]
  },
  {
   "cell_type": "code",
   "execution_count": 116,
   "metadata": {},
   "outputs": [],
   "source": [
    "# read valid patients num\n",
    "valid_patients = pd.read_csv(repo_path / 'data/valid_patients.csv', header=0, dtype=str)\n",
    "image_reldir = Path('data/images/SET')\n",
    "# make index a string\n",
    "labels_csv  = pd.read_csv(repo_path / 'data/images/labels/raw_labels.csv', index_col=0, dtype=str)\n",
    "labels_csv.index = labels_csv.index.astype(str)"
   ]
  },
  {
   "cell_type": "code",
   "execution_count": 175,
   "metadata": {},
   "outputs": [],
   "source": [
    "# use pat num as index\n",
    "df = pd.DataFrame(index=valid_patients['pat_num'])\n",
    "for pat_num in df.index:\n",
    "    # images\n",
    "    im_path = image_reldir / f'Pat_{pat_num}_SET_SMC_to_CMC_1min.tif'\n",
    "    df.loc[pat_num, 'SET_path'] = str(im_path)\n",
    "    df.loc[pat_num, 'SMC_path'] = f'data/images/pre-SET/Pat_{pat_num.zfill(2)}_RCC_SMC.tif'\n",
    "    for i in range(1, 5):\n",
    "        df.loc[pat_num, f'CMC-t{i}_path'] = f'data/images/pre-SET/Pat_{pat_num.zfill(2)}_RCC_CMC_t{i}.tif'\n",
    "    # binary masks\n",
    "    for rad in ['L', 'M', 'V']:\n",
    "        for time in ['1', '2']:\n",
    "            df.loc[pat_num, f'{rad}_{time}_G'] = f'data/fixed_binary_masks/{rad}_{time}_seg/{pat_num}_G_{rad}.seg.nrrd'\n",
    "    # RE label 1 if POSITIVO, 0 if NEGATIVO, -1 if INDETERMINADO\n",
    "    df.loc[pat_num, 'RE'] = 1 if labels_csv.loc[pat_num, 'RE'] == 'POSITIVO' else 0 if labels_csv.loc[pat_num, 'RE'] == 'NEGATIVO' else -1\n",
    "    # same for RP\n",
    "    df.loc[pat_num, 'RP'] = 1 if labels_csv.loc[pat_num, 'RP'] == 'POSITIVO' else 0 if labels_csv.loc[pat_num, 'RP'] == 'NEGATIVO' else -1\n",
    "    # same for HER2\n",
    "    df.loc[pat_num, 'HER2'] = 1 if labels_csv.loc[pat_num, 'HER 2'] == 'POSITIVO' else 0 if labels_csv.loc[pat_num, 'HER 2'] == 'NEGATIVO' else -1\n",
    "    # For KI67 1 if > 0.2, 0 if <= 0.2, -1 if INDETERMINADO\n",
    "    df.loc[pat_num, 'KI67'] = 1 if float(labels_csv.loc[pat_num, 'KI67']) > 0.2 else 0 if float(labels_csv.loc[pat_num, 'KI67']) <= 0.2 else -1\n",
    "# turn all labels to int\n",
    "df[['RE', 'RP', 'HER2', 'KI67']] = df[['RE', 'RP', 'HER2', 'KI67']].astype(int)\n",
    "\n",
    "# save to csv in data\n",
    "df.to_csv(repo_path / 'data/dataset_info.csv')"
   ]
  },
  {
   "cell_type": "markdown",
   "metadata": {},
   "source": [
    "## 1.2. Dataset object:"
   ]
  },
  {
   "cell_type": "code",
   "execution_count": 263,
   "metadata": {},
   "outputs": [],
   "source": [
    "class dataset_INCan():\n",
    "    \"\"\"Class to access general info (paths and labels) from csv of ALL PATIENTS\n",
    "    \"\"\"\n",
    "    def __init__(self, meta_path:Path = repo_path / 'data/dataset_info.csv') -> None:\n",
    "        \"\"\"dataset object for INCan dataset\n",
    "\n",
    "        Args:\n",
    "            meta_path (Path, optional): csv file path to create the object. Defaults to repo_path/'data/dataset_info.csv'.\n",
    "        \"\"\"\n",
    "        self.meta = pd.read_csv(str(meta_path), index_col='pat_num', dtype={'pat_num':str})\n",
    "        self.pat_num = list(self.meta.index)\n",
    "        self.len = len(self.pat_num)\n",
    "\n",
    "    def __repr__(self) -> str:\n",
    "        return f'dataset object with {self.len} patients'\n",
    "    \n",
    "    def im_path(self, sequence: str, t = 't1'):\n",
    "        \"\"\"gets the image paths of the current meta dataframe\n",
    "\n",
    "        Args:\n",
    "            sequence (str): SMC, CMC or SET\n",
    "            t (str, optional): Only for CMC (and SET). Defaults to 't1'.\n",
    "\n",
    "        Returns:\n",
    "            list: list with the paths of the images\n",
    "        \"\"\"\n",
    "        # sequence definition\n",
    "        im_seq = f'{sequence}-{t}_path' if sequence=='CMC' else f'{sequence}_path' if sequence=='SET' or sequence=='SMC' else None\n",
    "        if im_seq is None:\n",
    "            raise ValueError(f'not a correct sequence. Choose between SMC, CMC or SET. You chose {sequence}')\n",
    "        paths = getattr(self.meta, im_seq)\n",
    "        \n",
    "        return list(paths)\n",
    "\n",
    "    def seg_path(self, rad: str, time: int, stype: str='G'):\n",
    "        \"\"\"get paths list of segmentation given the radiologist, the time and the segmentation type\n",
    "\n",
    "        Args:\n",
    "            rad (str): Lily, Vyanka or Martha\n",
    "            time (str): 1 or 2\n",
    "            stype (str): global or focal\n",
    "\n",
    "        Returns:\n",
    "            list: paths of segmentation\n",
    "        \"\"\"\n",
    "        seg_name = f'{rad}_{time}_{stype}'\n",
    "        paths = getattr(self.meta, seg_name)\n",
    "        return list(paths)\n",
    "    \n",
    "\n",
    "    def labels_list(self, receptor: str):\n",
    "        \"\"\"get labels of the patients\n",
    "_description_\n",
    "        Args:\n",
    "            receptor (str): 'ER', 'PR' or 'HER2'\n",
    "\n",
    "        Returns:\n",
    "            list: list with labels of the patients\n",
    "        \"\"\"\n",
    "        labels = getattr(self.meta, receptor)\n",
    "        return list(labels)\n",
    "    \n",
    "class patient(dataset_INCan): #inherit from path_label path and seg functions\n",
    "    \"\"\"Class to access patient information\n",
    "    \"\"\"\n",
    "    def __init__(self, pat_num:str, dataset = dataset_INCan()) -> None:\n",
    "        \"\"\"use metadata from info for each patient\n",
    "\n",
    "        Args:\n",
    "            info (obj, optional): info object. Defaults to path_label().\n",
    "            num (int, optional): index of the patient (not patient number) Starts from 0. Defaults to 0.\n",
    "        \"\"\"\n",
    "        self.meta = dataset.meta.loc[[pat_num]]\n",
    "        self.pat_num = pat_num\n",
    "    \n",
    "    def __repr__(self) -> str:\n",
    "        return f'patient object of number {self.pat_num}'\n",
    "    \n",
    "    def get_im(self, sequence: str, t = 't1', format:str = 'np', SET_corrected: bool = True):\n",
    "        \"\"\"get the image array of the patient\n",
    "\n",
    "        Args:\n",
    "            sequence (str): SMC, CMC or SET\n",
    "            t (str, optional): Only for CMC (and SET). Defaults to 't1'.\n",
    "\n",
    "        Returns:\n",
    "            numpy array: image array\n",
    "        \"\"\"\n",
    "        im_path = repo_path / self.im_path(sequence, t)[0]\n",
    "        im_sitk = sitk.ReadImage(str(im_path))\n",
    "        if format =='sitk':\n",
    "            return im_sitk\n",
    "        im_array = sitk.GetArrayFromImage(im_sitk)\n",
    "        if sequence == 'SET' and SET_corrected:\n",
    "            im_array = im_array.astype(np.int32)\n",
    "            im_array = (im_array - np.power(2,15)).astype(np.int16)\n",
    "        \n",
    "        return im_array\n",
    "    \n",
    "    def get_seg(self, rad: str, time: int, stype: str='G', format:str = 'np'):\n",
    "        \"\"\"get the segmentation array of the patient\n",
    "\n",
    "        Args:\n",
    "            rad (str): Lily, Vyanka or Martha\n",
    "            time (str): 1 or 2\n",
    "            stype (str): global or focal\n",
    "\n",
    "        Returns:\n",
    "            numpy array: segmentation array\n",
    "        \"\"\"\n",
    "        seg_path = repo_path / self.seg_path(rad, time, stype)[0]\n",
    "        seg_sitk = sitk.ReadImage(str(seg_path))\n",
    "        if format =='sitk':\n",
    "            return seg_sitk\n",
    "        seg_array = sitk.GetArrayFromImage(seg_sitk)\n",
    "        return seg_array\n"
   ]
  },
  {
   "cell_type": "code",
   "execution_count": 271,
   "metadata": {},
   "outputs": [
    {
     "data": {
      "text/plain": [
       "<matplotlib.image.AxesImage at 0x7fb779a92800>"
      ]
     },
     "execution_count": 271,
     "metadata": {},
     "output_type": "execute_result"
    },
    {
     "data": {
      "image/png": "[encoded data removed]",
      "text/plain": [
       "<Figure size 1000x500 with 2 Axes>"
      ]
     },
     "metadata": {},
     "output_type": "display_data"
    }
   ],
   "source": [
    "dataset = dataset_INCan()\n",
    "id_num = dataset.pat_num[0]\n",
    "pat = patient(id_num, dataset)\n",
    "\n",
    "# show image and segmentation\n",
    "fig, ax = plt.subplots(1,2, figsize=(10,5))\n",
    "ax[0].imshow(pat.get_im('SET'))\n",
    "ax[1].imshow(pat.get_seg('L', 1))"
   ]
  }
 ],
 "metadata": {
  "kernelspec": {
   "display_name": "cedm-budget",
   "language": "python",
   "name": "python3"
  },
  "language_info": {
   "codemirror_mode": {
    "name": "ipython",
    "version": 3
   },
   "file_extension": ".py",
   "mimetype": "text/x-python",
   "name": "python",
   "nbconvert_exporter": "python",
   "pygments_lexer": "ipython3",
   "version": "3.10.9"
  }
 },
 "nbformat": 4,
 "nbformat_minor": 2
}
