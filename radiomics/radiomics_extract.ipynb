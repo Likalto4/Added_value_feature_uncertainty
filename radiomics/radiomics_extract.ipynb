{
 "cells": [
  {
   "cell_type": "code",
   "execution_count": 3,
   "metadata": {},
   "outputs": [],
   "source": [
    "# add repo path to the system path\n",
    "from pathlib import Path\n",
    "import os, sys\n",
    "repo_path= Path.cwd().resolve()\n",
    "while '.gitignore' not in os.listdir(repo_path): # while not in the root of the repo\n",
    "    repo_path = repo_path.parent #go up one level\n",
    "sys.path.insert(0,str(repo_path)) if str(repo_path) not in sys.path else None"
   ]
  },
  {
   "cell_type": "code",
   "execution_count": 69,
   "metadata": {},
   "outputs": [],
   "source": [
    "import radiomics\n",
    "from radiomics import featureextractor\n",
    "import pandas as pd\n",
    "import numpy as np\n",
    "import SimpleITK as sitk\n",
    "import collections\n",
    "from tqdm import tqdm"
   ]
  },
  {
   "cell_type": "markdown",
   "metadata": {},
   "source": [
    "The radiomic features corresponding to the given masks will be extracted."
   ]
  },
  {
   "cell_type": "code",
   "execution_count": 9,
   "metadata": {},
   "outputs": [],
   "source": [
    "def extractor_settings(param_path:Path, show=False):\n",
    "    \"\"\"set extraction settings for pyradiomics from a parameter file\n",
    "\n",
    "    Args:\n",
    "        param_path (Path or str): relative path of parameter file\n",
    "        show (bool, optional): if printing setting or not. Defaults to False.\n",
    "\n",
    "    Returns:\n",
    "        obj: extractor of pyradiomics\n",
    "    \"\"\"\n",
    "    extractor = featureextractor.RadiomicsFeatureExtractor(str(param_path))\n",
    "    if show:\n",
    "        print('Extraction parameters:\\n\\t', extractor.settings)\n",
    "        print('Enabled filters:\\n\\t', extractor.enabledImagetypes)\n",
    "        print('Enabled features:\\n\\t', extractor.enabledFeatures)\n",
    "    return extractor"
   ]
  },
  {
   "cell_type": "code",
   "execution_count": 70,
   "metadata": {},
   "outputs": [],
   "source": [
    "# settings\n",
    "valid_patients = pd.read_csv(repo_path / 'data/valid_patients.csv', header=0, dtype=str)\n",
    "image_dir = repo_path / 'data/images/SET'\n",
    "\n",
    "param_path = repo_path / 'data/param_files/Param_64bin_all_radiomics.json' #path of parameter file\n",
    "extractor = extractor_settings(param_path, show=False)\n",
    "\n",
    "logger = radiomics.logging.getLogger('radiomics')\n",
    "logger.setLevel(radiomics.logging.ERROR)"
   ]
  },
  {
   "cell_type": "code",
   "execution_count": 71,
   "metadata": {},
   "outputs": [],
   "source": [
    "def features_df(result:collections.OrderedDict, id_num:str):\n",
    "    \"\"\"given a result from pyradiomics, return a dataframe with the features\n",
    "\n",
    "    Args:\n",
    "        result (collections.OrderedDict): output of extract of pyradiomics\n",
    "        id_num (str): id_number of the patient\n",
    "\n",
    "    Returns:\n",
    "        df: pd.DataFrame with the features\n",
    "    \"\"\"\n",
    "    # get features and store in dataframe\n",
    "    fv_len = 102 # number of features\n",
    "    column_names = list(result.keys())[-fv_len:]\n",
    "    column_names = [x.replace('original_','') for x in column_names] #remove original_ string\n",
    "    df = pd.DataFrame(columns=column_names)\n",
    "    # define index name\n",
    "    df.index.name = 'pat_num'\n",
    "    #add feature vector to df\n",
    "    feature_vector = list(result.values())[-fv_len:] #get feature vector\n",
    "    # set efature vector in corresponding index\n",
    "    df.loc[id_num] = feature_vector\n",
    "\n",
    "    return df"
   ]
  },
  {
   "cell_type": "code",
   "execution_count": 87,
   "metadata": {},
   "outputs": [
    {
     "name": "stderr",
     "output_type": "stream",
     "text": [
      " 27%|██▋       | 9/33 [00:07<00:20,  1.16it/s]\n",
      "100%|██████████| 33/33 [00:22<00:00,  1.50it/s]\n"
     ]
    }
   ],
   "source": [
    "# e.g.\n",
    "rad = 'L'\n",
    "time = '1'\n",
    "\n",
    "df_all = pd.DataFrame()\n",
    "\n",
    "count_bar = tqdm(valid_patients.iterrows(), total=valid_patients.shape[0])\n",
    "for id_num in valid_patients['pat_num']:\n",
    "    # read image\n",
    "    im_path = image_dir / f'Pat_{id_num}_SET_SMC_to_CMC_1min.tif'\n",
    "    im_sitk = sitk.ReadImage(str(im_path))\n",
    "    # read segmentation\n",
    "    seg_path = repo_path / f'data/fixed_binary_masks/{rad}_{time}_seg/{id_num}_G_{rad}.seg.nrrd' \n",
    "    seg_sitk = sitk.ReadImage(str(seg_path))\n",
    "\n",
    "    #extract\n",
    "    result = extractor.execute(im_sitk, seg_sitk) # Extract features\n",
    "\n",
    "    # get features and store in dataframe\n",
    "    df = features_df(result, id_num)\n",
    "\n",
    "    # stack to df_all\n",
    "    df_all = pd.concat([df_all, df])\n",
    "    count_bar.update(1)\n",
    "\n",
    "count_bar.close()\n",
    "\n",
    "# find sum_average_column and remove\n",
    "sum_avg_col = df_all.columns[df_all.columns.str.contains('SumAverage')]\n",
    "df_all = df_all.drop(columns=sum_avg_col)"
   ]
  }
 ],
 "metadata": {
  "kernelspec": {
   "display_name": "cedm-budget",
   "language": "python",
   "name": "python3"
  },
  "language_info": {
   "codemirror_mode": {
    "name": "ipython",
    "version": 3
   },
   "file_extension": ".py",
   "mimetype": "text/x-python",
   "name": "python",
   "nbconvert_exporter": "python",
   "pygments_lexer": "ipython3",
   "version": "3.10.9"
  },
  "orig_nbformat": 4
 },
 "nbformat": 4,
 "nbformat_minor": 2
}
