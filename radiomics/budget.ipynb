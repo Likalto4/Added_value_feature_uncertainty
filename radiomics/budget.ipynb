{
 "cells": [
  {
   "cell_type": "code",
   "execution_count": 2,
   "metadata": {},
   "outputs": [],
   "source": [
    "#Add repo path to the system path\n",
    "from pathlib import Path\n",
    "import os, sys\n",
    "repo_path= Path.cwd().resolve()\n",
    "while '.gitignore' not in os.listdir(repo_path): # while not in the root of the repo\n",
    "    repo_path = repo_path.parent #go up one level\n",
    "sys.path.insert(0,str(repo_path)) if str(repo_path) not in sys.path else None\n",
    "\n",
    "import pandas as pd\n",
    "import matplotlib.pyplot as plt\n",
    "import numpy as np\n",
    "import SimpleITK as sitk\n",
    "from radiomics import featureextractor\n",
    "from tqdm import tqdm\n",
    "from IPython.display import clear_output\n",
    "\n",
    "#Import paths and patients classes\n",
    "import notebooks.utils as utils"
   ]
  },
  {
   "cell_type": "code",
   "execution_count": 3,
   "metadata": {},
   "outputs": [],
   "source": [
    "def substract(im_base, im_restant, x_trans, y_trans, pat_num, sitk_im=False, reference_path=None, save=False):\n",
    "    \"\"\"given base and restant images, substract restant from base and return the result\n",
    "    Minimum value of substraction is shifted to 0 to become uint16 image\n",
    "\n",
    "    Args:\n",
    "        im_base (array): base image\n",
    "        im_restant (array): restant image\n",
    "        sitk_im (bool, optional): if True, the image is a sitk obj using SET as reference image. Defaults to False.\n",
    "        reference_path (str, optional): path to SET reference image. Defaults to None.\n",
    "\n",
    "    Returns:\n",
    "        array or sitk image: uint16 image with the substraction\n",
    "    \"\"\"\n",
    "    #Subsract using im_base as reference and transform to int32 for negative values\n",
    "    im_substraction = (im_base.astype(np.int32) - im_restant.astype(np.int32))\n",
    "    #shift intensities to be uint16\n",
    "    im_substraction = (im_substraction + 33152).astype(np.uint16) #save with original dtype\n",
    "    utils.min_max(im_substraction, show=True)\n",
    "\n",
    "    if save:\n",
    "        utils.save_as_nifti(im_substraction,\n",
    "                            filename=str(repo_path / f'data/substracted_images/Pat_{pat_num}_CMC-SMC_x{x_trans}_y{y_trans}.tif'),\n",
    "                            reference_path=str(reference_path))\n",
    "    if sitk_im: #in case of sitk image\n",
    "        reference_image = sitk.ReadImage(reference_path)\n",
    "        im_substraction = sitk.GetImageFromArray(im_substraction)\n",
    "        im_substraction.SetOrigin(reference_image.GetOrigin())\n",
    "        im_substraction.SetSpacing(reference_image.GetSpacing())\n",
    "        im_substraction.SetDirection(reference_image.GetDirection())\n",
    "        return im_substraction\n",
    "    #else return array\n",
    "    return im_substraction\n",
    "\n",
    "def extractor_settings(param_path, show=False):\n",
    "    \"\"\"set extraction settings for pyradiomics\n",
    "\n",
    "    Args:\n",
    "        param_path (str): relative path of parameter file\n",
    "        show (bool, optional): if printing setting or not. Defaults to False.\n",
    "\n",
    "    Returns:\n",
    "        obj: extractor of pyradiomics\n",
    "    \"\"\"\n",
    "    extractor = featureextractor.RadiomicsFeatureExtractor(str(repo_path /param_path))\n",
    "    if show:\n",
    "        print('Extraction parameters:\\n\\t', extractor.settings)\n",
    "        print('Enabled filters:\\n\\t', extractor.enabledImagetypes)\n",
    "        print('Enabled features:\\n\\t', extractor.enabledFeatures)\n",
    "    return extractor"
   ]
  },
  {
   "cell_type": "code",
   "execution_count": 5,
   "metadata": {},
   "outputs": [
    {
     "name": "stdout",
     "output_type": "stream",
     "text": [
      "min and max of no contrast image: 11341, 14659\n"
     ]
    }
   ],
   "source": [
    "# read no contrast image\n",
    "no_contrast_path = repo_path / 'data/images/pre-SET/Pat_02_RCC_SMC.tif'\n",
    "no_contrast = sitk.GetArrayFromImage(sitk.ReadImage(str(no_contrast_path)))\n",
    "# min and max\n",
    "print(f'min and max of no contrast image: {no_contrast.min()}, {no_contrast.max()}')"
   ]
  }
 ],
 "metadata": {
  "kernelspec": {
   "display_name": "cedm-budget",
   "language": "python",
   "name": "python3"
  },
  "language_info": {
   "codemirror_mode": {
    "name": "ipython",
    "version": 3
   },
   "file_extension": ".py",
   "mimetype": "text/x-python",
   "name": "python",
   "nbconvert_exporter": "python",
   "pygments_lexer": "ipython3",
   "version": "3.10.9"
  }
 },
 "nbformat": 4,
 "nbformat_minor": 2
}
