{
 "cells": [
  {
   "cell_type": "markdown",
   "metadata": {},
   "source": [
    "# Libraries"
   ]
  },
  {
   "cell_type": "code",
   "execution_count": 1,
   "metadata": {},
   "outputs": [],
   "source": [
    "import os\n",
    "from pathlib import Path\n",
    "from glob import glob\n",
    "import pandas as pd\n",
    "from pydicom import dcmread\n",
    "import matplotlib.pyplot as plt\n",
    "import numpy as np"
   ]
  },
  {
   "cell_type": "code",
   "execution_count": 2,
   "metadata": {},
   "outputs": [
    {
     "name": "stdout",
     "output_type": "stream",
     "text": [
      "Current folder is: /home/ricardino/Documents/MAIA/tercer_semestre/Extra_activities/INCan/Added_value_feature_uncertainty/notebooks/initials\n",
      "\n"
     ]
    }
   ],
   "source": [
    "subfolder_path = Path.cwd()\n",
    "notebooks_path = subfolder_path.parent\n",
    "repo_path = notebooks_path.parent\n",
    "os.chdir(str(subfolder_path))\n",
    "#print current working directory\n",
    "print(f'Current folder is: {os.getcwd()}\\n')\n",
    "thispath = Path.cwd().resolve()\n",
    "import sys; sys.path.insert(0, str(thispath.parent.parent)) if sys.path[0] != str(thispath.parent.parent) else None\n",
    "\n",
    "#Import paths and patients classes\n",
    "from notebooks.info import path_label"
   ]
  },
  {
   "cell_type": "markdown",
   "metadata": {},
   "source": [
    "# Funtions and classes"
   ]
  },
  {
   "cell_type": "code",
   "execution_count": 3,
   "metadata": {},
   "outputs": [],
   "source": [
    "#Valid patients in the dataset\n",
    "pat_list = [x for x in range(1,46) if x not in [1, 6, 10, 13, 17, 18, 19, 22, 23, 27, 30, 32]] #list of valid patients"
   ]
  },
  {
   "cell_type": "markdown",
   "metadata": {},
   "source": [
    "## Metadata creation"
   ]
  },
  {
   "cell_type": "code",
   "execution_count": 4,
   "metadata": {},
   "outputs": [],
   "source": [
    "def get_PathsAndNums():\n",
    "    \"\"\"Returns files and patient numbers, NOT sorted\n",
    "\n",
    "    Returns:\n",
    "        2 lists: files and numbers lists\n",
    "    \"\"\"\n",
    "    #Get paths  \n",
    "    folder_path = str(repo_path) + '/data/images/SET'\n",
    "    p = Path(folder_path).glob('**/*')\n",
    "    files = [x.relative_to(repo_path) for x in p if x.is_file()]\n",
    "    #Get patient number\n",
    "    p = Path(folder_path).glob('**/*')\n",
    "    pat_num = [int(str(x.relative_to(repo_path).name)[4:6].replace('_','')) for x in p if x.is_file()] #Get patient number\n",
    "    \n",
    "    return files, pat_num\n",
    "\n",
    "def get_PathsAndNums_seg(radiologist, time, stype):\n",
    "    \"\"\"Returns files and patient numbers, NOT sorted\n",
    "\n",
    "    Returns:\n",
    "        2 lists: files and numbers lists\n",
    "    \"\"\"\n",
    "    #Get paths  \n",
    "    folder_path = str(repo_path) + f'/data/segmentations/{radiologist}_{time}_seg'\n",
    "    p = Path(folder_path).glob(f'*_{stype}_{radiologist}.seg.nrrd')\n",
    "    files = [x.relative_to(repo_path) for x in p if x.is_file()]\n",
    "    #Get patient number\n",
    "    p = Path(folder_path).glob(f'*_{stype}_{radiologist}.seg.nrrd')\n",
    "    pat_num = [int(str(x.relative_to(repo_path).name)[:2].replace('_','')) for x in p if x.is_file()] #Get patient number\n",
    "    \n",
    "    return files, pat_num\n",
    "\n",
    "def info_SET_dataframe(pat_list):\n",
    "    \"\"\"returns dataframe with metadata\n",
    "\n",
    "    Returns:\n",
    "        _type_: _description_\n",
    "    \"\"\"\n",
    "    #image dataframe\n",
    "    df = pd.DataFrame() #Save paths in df\n",
    "    paths_list, pat_nums = get_PathsAndNums() #Not sorted paths and nums\n",
    "    paths = pd.DataFrame({ #save in frame\n",
    "        'path_SET': paths_list, \n",
    "        'pat_num': pat_nums\n",
    "    })\n",
    "    paths = paths.sort_values('pat_num') #Sort paths by alphabetic order\n",
    "    df = pd.concat([df,paths], ignore_index=True) #Concatenate with previous info\n",
    "    \n",
    "    df = df[df['pat_num'].isin(pat_list)].reset_index(drop=True) #Filter by patient list\n",
    "    \n",
    "    return df"
   ]
  },
  {
   "cell_type": "code",
   "execution_count": 5,
   "metadata": {},
   "outputs": [],
   "source": [
    "def add_segColumns(df, radiologist, time, stype):\n",
    "    \"\"\"get dataframe with column of segmentation paths added\n",
    "\n",
    "    Args:\n",
    "        df (dataframe): input dataframe\n",
    "        radiologist (str): radiologist first letter\n",
    "        time (srt): first or second time (1,2)\n",
    "        stype (srt): General (G) or focal (F)\n",
    "\n",
    "    Returns:\n",
    "        dataframe: output dataframe\n",
    "    \"\"\"\n",
    "    paths_list, pat_nums = get_PathsAndNums_seg(radiologist, time, stype)\n",
    "    column_name = f'{radiologist}_{time}_{stype}'\n",
    "    paths = pd.DataFrame({ #save in frame\n",
    "        column_name: paths_list, \n",
    "        'pat_num': pat_nums\n",
    "    })\n",
    "    paths = paths.sort_values('pat_num') #Sort paths by alphabetic order\n",
    "    \n",
    "    \n",
    "    paths = paths[paths['pat_num'].isin(pat_list)].reset_index(drop=True) #Filter by patient list\n",
    "    df[column_name] = paths[column_name]\n",
    "    \n",
    "    return df\n",
    "    "
   ]
  },
  {
   "cell_type": "code",
   "execution_count": 6,
   "metadata": {},
   "outputs": [],
   "source": [
    "def get_metadata(pat_list, save = False):\n",
    "    \"\"\"Go thorugh all radiologists, times and ROI type to get all metadata\n",
    "\n",
    "    Args:\n",
    "        pat_list (_type_): _description_\n",
    "\n",
    "    Returns:\n",
    "        _type_: _description_\n",
    "    \"\"\"\n",
    "    df = info_SET_dataframe(pat_list)\n",
    "    for radiologist in ['L', 'V', 'M']:\n",
    "        for time in ['1', '2']:\n",
    "            for stype in ['G', 'F']:\n",
    "                df = add_segColumns(df, radiologist, time, stype)\n",
    "                \n",
    "    df.to_csv(str(repo_path) + '/data/metadata.csv', index=False) if save else None\n",
    "    \n",
    "    return df"
   ]
  },
  {
   "cell_type": "markdown",
   "metadata": {},
   "source": [
    "# IMP"
   ]
  },
  {
   "cell_type": "markdown",
   "metadata": {},
   "source": [
    "## Get primary metadata\n",
    "From the list of permissable patients"
   ]
  },
  {
   "cell_type": "code",
   "execution_count": 7,
   "metadata": {},
   "outputs": [],
   "source": [
    "meta = get_metadata(pat_list, save = True)"
   ]
  },
  {
   "cell_type": "code",
   "execution_count": 8,
   "metadata": {},
   "outputs": [],
   "source": [
    "#Access to geenral info of the whole dataset\n",
    "info = path_label()"
   ]
  },
  {
   "cell_type": "code",
   "execution_count": 22,
   "metadata": {},
   "outputs": [
    {
     "name": "stdout",
     "output_type": "stream",
     "text": [
      "['data/segmentations/L_2_seg/2_F_L.seg.nrrd', 'data/segmentations/L_2_seg/3_F_L.seg.nrrd', 'data/segmentations/L_2_seg/4_F_L.seg.nrrd', 'data/segmentations/L_2_seg/5_F_L.seg.nrrd', 'data/segmentations/L_2_seg/7_F_L.seg.nrrd', 'data/segmentations/L_2_seg/8_F_L.seg.nrrd', 'data/segmentations/L_2_seg/9_F_L.seg.nrrd', 'data/segmentations/L_2_seg/11_F_L.seg.nrrd', 'data/segmentations/L_2_seg/12_F_L.seg.nrrd', 'data/segmentations/L_2_seg/14_F_L.seg.nrrd', 'data/segmentations/L_2_seg/15_F_L.seg.nrrd', 'data/segmentations/L_2_seg/16_F_L.seg.nrrd', 'data/segmentations/L_2_seg/20_F_L.seg.nrrd', 'data/segmentations/L_2_seg/21_F_L.seg.nrrd', 'data/segmentations/L_2_seg/24_F_L.seg.nrrd', 'data/segmentations/L_2_seg/25_F_L.seg.nrrd', 'data/segmentations/L_2_seg/26_F_L.seg.nrrd', 'data/segmentations/L_2_seg/28_F_L.seg.nrrd', 'data/segmentations/L_2_seg/29_F_L.seg.nrrd', 'data/segmentations/L_2_seg/31_F_L.seg.nrrd', 'data/segmentations/L_2_seg/33_F_L.seg.nrrd', 'data/segmentations/L_2_seg/34_F_L.seg.nrrd', 'data/segmentations/L_2_seg/35_F_L.seg.nrrd', 'data/segmentations/L_2_seg/36_F_L.seg.nrrd', 'data/segmentations/L_2_seg/37_F_L.seg.nrrd', 'data/segmentations/L_2_seg/38_F_L.seg.nrrd', 'data/segmentations/L_2_seg/39_F_L.seg.nrrd', 'data/segmentations/L_2_seg/40_F_L.seg.nrrd', 'data/segmentations/L_2_seg/41_F_L.seg.nrrd', 'data/segmentations/L_2_seg/42_F_L.seg.nrrd', 'data/segmentations/L_2_seg/43_F_L.seg.nrrd', 'data/segmentations/L_2_seg/44_F_L.seg.nrrd', 'data/segmentations/L_2_seg/45_F_L.seg.nrrd']\n",
      "33\n"
     ]
    }
   ],
   "source": [
    "#examples of how to access the segmentation\n",
    "seg_paths = info.seg('L', '2', 'F')\n",
    "print(seg_paths)\n",
    "print(len(seg_paths))"
   ]
  },
  {
   "cell_type": "markdown",
   "metadata": {},
   "source": [
    "## Visualize"
   ]
  },
  {
   "cell_type": "code",
   "execution_count": 10,
   "metadata": {},
   "outputs": [],
   "source": [
    "# path_SC = str(repo_path) + '/data/images/pre-SET/Pat_2_RCC_SMC.tif' \n",
    "# path_CM = str(repo_path) + '/data/images/pre-SET/Pat_2_RCC_CMC_t1.tif'\n",
    "# ds_SC = dcmread(path_SC)\n",
    "# ds_CM = dcmread(path_CM)\n",
    "# #show images\n",
    "# fig, axs = plt.subplots(1, 2, figsize=(10, 10))\n",
    "# axs[0].imshow(ds_SC.pixel_array, cmap='gray')\n",
    "# axs[1].imshow(ds_CM.pixel_array, cmap='gray')"
   ]
  },
  {
   "cell_type": "code",
   "execution_count": 11,
   "metadata": {},
   "outputs": [],
   "source": [
    "# function to translate the segmentation into a mask\n",
    "def get_mask(path):\n",
    "    \"\"\"Returns a mask from a segmentation file\n",
    "\n",
    "    Args:\n",
    "        path (str): path to the segmentation file\n",
    "\n",
    "    Returns:\n",
    "        numpy.array: mask\n",
    "    \"\"\"\n",
    "\n",
    "    data, header = nrrd.read(path)\n",
    "    mask = np.zeros(data.shape)\n",
    "    mask[data == 1] = 1\n",
    "    return mask"
   ]
  }
 ],
 "metadata": {
  "kernelspec": {
   "display_name": "Python 3.9.12 ('base')",
   "language": "python",
   "name": "python3"
  },
  "language_info": {
   "codemirror_mode": {
    "name": "ipython",
    "version": 3
   },
   "file_extension": ".py",
   "mimetype": "text/x-python",
   "name": "python",
   "nbconvert_exporter": "python",
   "pygments_lexer": "ipython3",
   "version": "3.9.12"
  },
  "orig_nbformat": 4,
  "vscode": {
   "interpreter": {
    "hash": "1c1f01218bbaf8a302f18173488403fcc9591627716b9a07a59bd925307e4c23"
   }
  }
 },
 "nbformat": 4,
 "nbformat_minor": 2
}
