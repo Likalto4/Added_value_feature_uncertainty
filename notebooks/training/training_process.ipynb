{
 "cells": [
  {
   "cell_type": "code",
   "execution_count": 1,
   "metadata": {},
   "outputs": [],
   "source": [
    "from pathlib import Path\n",
    "import os, sys\n",
    "repo_path= Path.cwd().resolve()\n",
    "while '.gitignore' not in os.listdir(repo_path): # while not in the root of the repo\n",
    "    repo_path = repo_path.parent #go up one level\n",
    "sys.path.insert(0,str(repo_path)) if str(repo_path) not in sys.path else None\n",
    "\n",
    "import pandas as pd\n",
    "import numpy as np\n",
    "#Import paths and patients classes\n",
    "from notebooks.info import path_label, patient\n",
    "import notebooks.utils as utils\n",
    "from sklearn.model_selection import KFold\n",
    "from sklearn.preprocessing import StandardScaler\n",
    "from sklearn.linear_model import LogisticRegression\n",
    "from sklearn.pipeline import Pipeline\n",
    "from sklearn.metrics import roc_auc_score, roc_curve\n",
    "from matplotlib import pyplot as plt"
   ]
  },
  {
   "cell_type": "code",
   "execution_count": 2,
   "metadata": {},
   "outputs": [],
   "source": [
    "def get_ex_included(budget_path: Path):\n",
    "    \"\"\"get excluded features name using the budget CV value\n",
    "\n",
    "    Args:\n",
    "        budget_path (Path): path to the csv file with the budget\n",
    "\n",
    "    Returns:\n",
    "        sequences: excluded and included features\n",
    "    \"\"\"\n",
    "    # get the name of the features from the budget\n",
    "    budget = pd.read_csv(budget_path, index_col=0)\n",
    "    # change name of column\n",
    "    budget.columns = ['budget']\n",
    "    # get all features with values greater than 1\n",
    "    excluded = budget[budget[ 'budget' ] > 1].index\n",
    "    # get all other names\n",
    "    included = budget[budget[ 'budget' ] <= 1].index\n",
    "    \n",
    "    return excluded, included\n",
    "\n",
    "def get_features(stype:str, excluded:list):\n",
    "    \"\"\"\n",
    "    return df with features given the segmentation type and excluded features\n",
    "\n",
    "    Args:\n",
    "        stype (str): general or focal\n",
    "        excluded (seq): sequence of excluded features\n",
    "\n",
    "    Returns:\n",
    "        pd.DataFrame: df with features\n",
    "    \"\"\"\n",
    "    # get features\n",
    "    features = pd.read_csv(repo_path / 'data' / 'features' / f'features_all_time{stype}.csv', index_col=0)\n",
    "    features = features.groupby(by='pat_num', axis=0).mean()\n",
    "    # remove features in excluded list\n",
    "    features = features.drop(excluded, axis=1)\n",
    "\n",
    "    return features"
   ]
  },
  {
   "cell_type": "markdown",
   "metadata": {},
   "source": [
    "# 1. Traditional pipeline"
   ]
  },
  {
   "cell_type": "code",
   "execution_count": 13,
   "metadata": {},
   "outputs": [
    {
     "name": "stdout",
     "output_type": "stream",
     "text": [
      "The number of patients (n) is: 33\n",
      "The number of features (p) is: 100\n"
     ]
    }
   ],
   "source": [
    "# experiment HP\n",
    "stype='G' # segmentation type\n",
    "label = 'RP' # receptor type (RP, RE, KI67)\n",
    "# load compatible features\n",
    "budget_path = repo_path/ 'data' / 'budget' / 'budget_ROI_and_rad.csv'\n",
    "excluded, _ = get_ex_included(budget_path) # get excluded features due to their budget value\n",
    "features = get_features(stype, excluded)\n",
    "\n",
    "n = features.shape[0] # number of patients\n",
    "p = features.shape[1] # number of features\n",
    "# feature selection using lasso\n",
    "print(f'The number of patients (n) is: {n}\\nThe number of features (p) is: {p}')\n",
    "# load info class\n",
    "info = path_label()"
   ]
  },
  {
   "cell_type": "code",
   "execution_count": 27,
   "metadata": {},
   "outputs": [
    {
     "name": "stdout",
     "output_type": "stream",
     "text": [
      "The number of features selected is: 6\n"
     ]
    },
    {
     "data": {
      "text/plain": [
       "<matplotlib.legend.Legend at 0x7f7c4113fd00>"
      ]
     },
     "execution_count": 27,
     "metadata": {},
     "output_type": "execute_result"
    },
    {
     "data": {
      "image/png": "[encoded data removed]",
      "text/plain": [
       "<Figure size 640x480 with 1 Axes>"
      ]
     },
     "metadata": {},
     "output_type": "display_data"
    }
   ],
   "source": [
    "# create loo using kfold\n",
    "kfold = KFold(n_splits=n)\n",
    "# prepare data\n",
    "y = np.asarray(info.labels_list(label))\n",
    "x = np.asarray(features)\n",
    "\n",
    "# 1. LASSO\n",
    "lasso = Pipeline([('scaler', StandardScaler()), ('lasso', LogisticRegression(penalty='l1', solver='liblinear', class_weight='balanced', C=1, max_iter=1000))])\n",
    "lasso.fit(x, y)\n",
    "# get the coefficients\n",
    "coef = lasso.named_steps['lasso'].coef_\n",
    "features_selected = features.columns[coef[0] != 0]\n",
    "print(f'The number of features selected is: {len(features_selected)}')\n",
    "\n",
    "filteres_features = features[features_selected]\n",
    "x = np.asarray(filteres_features)\n",
    "\n",
    "# create pipeline with scaler and logistic regression\n",
    "pipe = Pipeline([('scaler', StandardScaler()), ('lasso', LogisticRegression(penalty='l1', solver='liblinear', class_weight='balanced', max_iter=1000))])\n",
    "\n",
    "prob_matrix = np.zeros(shape=(n, 2))\n",
    "# go through each fold\n",
    "for train, test in kfold.split(features, y):\n",
    "    # fit the lasso\n",
    "    pipe.fit(x[train], y[train])\n",
    "    # predict\n",
    "    prob_matrix[test] = pipe.predict_proba(x[test])\n",
    "\n",
    "# show results\n",
    "# get roc curve\n",
    "fpr, tpr, thresholds = roc_curve(y, prob_matrix[:, 1])\n",
    "# compute auc\n",
    "auc = roc_auc_score(y, prob_matrix[:, 1])\n",
    "# plot roc curve\n",
    "plt.plot(fpr, tpr, label=f'auc = {auc:.2f}')\n",
    "plt.xlabel('False Positive Rate')\n",
    "plt.ylabel('True Positive Rate')\n",
    "plt.legend()"
   ]
  },
  {
   "cell_type": "markdown",
   "metadata": {},
   "source": [
    "# 2. Robust testing"
   ]
  },
  {
   "cell_type": "code",
   "execution_count": 36,
   "metadata": {},
   "outputs": [],
   "source": [
    "# read budget\n",
    "budget = pd.read_csv(budget_path, index_col=0)\n",
    "budget_mean = pd.read_csv(repo_path / 'data/budget/budget_mean.csv')\n",
    "active_budget = budget.T[features_selected] * budget_mean.mean().T[features_selected]\n",
    "active_budget = active_budget.abs()"
   ]
  },
  {
   "cell_type": "code",
   "execution_count": 35,
   "metadata": {},
   "outputs": [
    {
     "name": "stdout",
     "output_type": "stream",
     "text": [
      "The mean AUC is: 0.58 +/- 0.09\n"
     ]
    }
   ],
   "source": [
    "# HP\n",
    "num_samples = 1000\n",
    "# use ER features\n",
    "x = features[features_selected]\n",
    "# probability matrix\n",
    "prob_mat = np.zeros(shape=(x.shape[0], num_samples, 2))\n",
    "\n",
    "for train, test in kfold.split(x, y):\n",
    "    # fit train data\n",
    "    pipe.fit(x.iloc[train], y[train])\n",
    "    # get test data\n",
    "    x_test = x.iloc[test]\n",
    "    # generate 1000 random samples from a normal distribution using the x_test values as mean and the budget as std\n",
    "    samples = np.random.normal(x_test, active_budget, size=(num_samples, x_test.shape[1]))\n",
    "    samples = pd.DataFrame(samples)\n",
    "    samples.columns = x_test.columns # same column names for the standard scaler\n",
    "    y_proba = pipe.predict_proba(samples)\n",
    "    prob_mat[test] = y_proba\n",
    "\n",
    "# the metrics are computed for each gaussian sample\n",
    "auc = np.zeros(shape=(num_samples,))\n",
    "accuracy = np.zeros(shape=(num_samples,))\n",
    "f1 = np.zeros(shape=(num_samples,))\n",
    "precision = np.zeros(shape=(num_samples,))\n",
    "sensitivity = np.zeros(shape=(num_samples,))\n",
    "specificity = np.zeros(shape=(num_samples,))\n",
    "mcc = np.zeros(shape=(num_samples,))\n",
    "\n",
    "for i in range(num_samples):\n",
    "    # compute accuracy\n",
    "    auc[i] = roc_auc_score(info.labels_list(label), prob_mat[:,i,:][:, 1])\n",
    "    # fpr, tpr, thresholds = roc_curve(info.labels_list(label), prob_mat[:,i,:][:, 1])\n",
    "    # thresholdOpt = best_threshold(fpr, tpr, thresholds)\n",
    "    # threshold = thresholdOpt\n",
    "    # # accuracy\n",
    "    # accuracy[i] = accuracy_score(info.labels_list(label), y_pred_proba[:, 1] > threshold)\n",
    "    # f1[i] = f1_score(info.labels_list(label), y_pred_proba[:, 1] > threshold)\n",
    "    # precision[i] = precision_score(info.labels_list(label), y_pred_proba[:, 1] > threshold)\n",
    "    # sensitivity[i] = recall_score(info.labels_list(label), y_pred_proba[:, 1] > threshold)\n",
    "    # specificity[i] = recall_score(info.labels_list(label), y_pred_proba[:, 1] > threshold, pos_label=0)\n",
    "    # mcc[i] = matthews_corrcoef(info.labels_list(label), y_pred_proba[:, 1] > threshold)\n",
    "print(f'The mean AUC is: {auc.mean():.2f} +/- {auc.std():.2f}')\n"
   ]
  },
  {
   "cell_type": "markdown",
   "metadata": {},
   "source": [
    "# 3. Robust selection"
   ]
  },
  {
   "cell_type": "code",
   "execution_count": 37,
   "metadata": {},
   "outputs": [
    {
     "name": "stdout",
     "output_type": "stream",
     "text": [
      "The number of clusters is 31\n",
      "The 31 cluster leaders are: ['shape2D_Elongation', 'shape2D_MaximumDiameter', 'gldm_DependenceNonUniformity', 'shape2D_MinorAxisLength', 'shape2D_PerimeterSurfaceRatio', 'shape2D_Sphericity', 'firstorder_10Percentile', 'firstorder_90Percentile', 'firstorder_Entropy', 'firstorder_RobustMeanAbsoluteDeviation', 'firstorder_Kurtosis', 'firstorder_Maximum', 'firstorder_Minimum', 'firstorder_Range', 'glcm_JointAverage', 'gldm_DependenceEntropy', 'glcm_Idmn', 'glcm_Imc2', 'glcm_JointEntropy', 'glcm_MCC', 'glrlm_RunEntropy', 'glszm_GrayLevelVariance', 'gldm_LargeDependenceLowGrayLevelEmphasis', 'gldm_LowGrayLevelEmphasis', 'glszm_SmallAreaHighGrayLevelEmphasis', 'glrlm_LongRunHighGrayLevelEmphasis', 'glrlm_LongRunLowGrayLevelEmphasis', 'ngtdm_Strength', 'ngtdm_Contrast', 'gldm_SmallDependenceHighGrayLevelEmphasis', 'gldm_SmallDependenceLowGrayLevelEmphasis']\n"
     ]
    }
   ],
   "source": [
    "# Criteria to group features\n",
    "pcc_value = 0.95\n",
    "\n",
    "# Compute the pearson correlation coefficient\n",
    "pcc = features.corr(method='pearson')\n",
    "# compute absolute value, because we are interested in the magnitude of the correlation, not the sign\n",
    "pcc = pcc.abs()\n",
    "# if the value is greater than 0.9 but not exaclty 1, group them\n",
    "pcc = pcc[(pcc > pcc_value) & (pcc < 1)]\n",
    "pcc.to_csv('pcc_high.csv')\n",
    "# go through each column and get the name of the features that are correlated\n",
    "pcc_names = pcc.apply(lambda x: x.dropna().index.tolist(), axis=1)\n",
    "pcc_names.to_csv('pcc_names.csv')\n",
    "\n",
    "# list for the clusters (as lists)\n",
    "clusters = []\n",
    "\n",
    "# first example in column\n",
    "for column in pcc_names.index:\n",
    "    # check if list is empty\n",
    "    if not pcc_names[column]: # if empty\n",
    "        clusters.append([column]) # lone feature\n",
    "    else: # if not empty\n",
    "        # make a list including the first feature and all the features that are correlated to it\n",
    "        connected_features = [column] + pcc_names[column]\n",
    "        # check if any of the features in connected features are already in a cluster\n",
    "        for cluster in clusters:\n",
    "            if any(feature in cluster for feature in connected_features):\n",
    "                # if so, add all the features to that cluster\n",
    "                cluster.extend(connected_features)\n",
    "                break\n",
    "        else: # if not, create a new cluster\n",
    "            clusters.append(connected_features)\n",
    "# remove duplicates\n",
    "for i, cluster in enumerate(clusters):\n",
    "    cluster = list(set(cluster))\n",
    "    clusters[i] = cluster\n",
    "\n",
    "print(f'The number of clusters is {len(clusters)}')\n",
    "\n",
    "# select a leader feature for each cluster depending on the budget value\n",
    "budget = pd.read_csv(budget_path, index_col=0).T\n",
    "cluster_leaders = []\n",
    "# example\n",
    "for cluster in clusters:\n",
    "    # get the feature with the lowest budget value\n",
    "    leader = budget[cluster].min().idxmin()\n",
    "    # add it to the list\n",
    "    cluster_leaders.append(leader)\n",
    "\n",
    "print(f'The {len(cluster_leaders)} cluster leaders are: {cluster_leaders}')\n",
    "\n",
    "# read budget\n",
    "budget = pd.read_csv(budget_path, index_col=0)\n",
    "budget_mean = pd.read_csv(repo_path / 'data/budget/budget_mean.csv')\n",
    "active_budget = budget.T[cluster_leaders] * budget_mean.mean().T[cluster_leaders]\n",
    "active_budget = active_budget.abs()"
   ]
  },
  {
   "cell_type": "code",
   "execution_count": 45,
   "metadata": {},
   "outputs": [
    {
     "name": "stdout",
     "output_type": "stream",
     "text": [
      "The number of features selected is: 7\n",
      "The mean AUC is: 0.55 +/- 0.10\n"
     ]
    }
   ],
   "source": [
    "# HP\n",
    "num_samples = 1000\n",
    "# use ER features\n",
    "x = features[cluster_leaders]\n",
    "\n",
    "# 1. LASSO\n",
    "lasso = Pipeline([('scaler', StandardScaler()), ('lasso', LogisticRegression(penalty='l1', solver='liblinear', class_weight='balanced', C=1, max_iter=1000))])\n",
    "lasso.fit(x, y)\n",
    "# get the coefficients\n",
    "coef = lasso.named_steps['lasso'].coef_\n",
    "features_selected = features[cluster_leaders].columns[coef[0] != 0]\n",
    "print(f'The number of features selected is: {len(features_selected)}')\n",
    "\n",
    "filteres_features = features[features_selected]\n",
    "x = filteres_features\n",
    "\n",
    "# probability matrix\n",
    "prob_mat = np.zeros(shape=(x.shape[0], num_samples, 2))\n",
    "\n",
    "for train, test in kfold.split(x, y):\n",
    "    # fit train data\n",
    "    pipe.fit(x.iloc[train], y[train])\n",
    "    # get test data\n",
    "    x_test = x.iloc[test]\n",
    "    # generate 1000 random samples from a normal distribution using the x_test values as mean and the budget as std\n",
    "    samples = np.random.normal(x_test, active_budget[features_selected], size=(num_samples, x_test.shape[1]))\n",
    "    samples = pd.DataFrame(samples)\n",
    "    samples.columns = x_test.columns # same column names for the standard scaler\n",
    "    y_proba = pipe.predict_proba(samples)\n",
    "    prob_mat[test] = y_proba\n",
    "\n",
    "# the metrics are computed for each gaussian sample\n",
    "auc = np.zeros(shape=(num_samples,))\n",
    "accuracy = np.zeros(shape=(num_samples,))\n",
    "f1 = np.zeros(shape=(num_samples,))\n",
    "precision = np.zeros(shape=(num_samples,))\n",
    "sensitivity = np.zeros(shape=(num_samples,))\n",
    "specificity = np.zeros(shape=(num_samples,))\n",
    "mcc = np.zeros(shape=(num_samples,))\n",
    "\n",
    "for i in range(num_samples):\n",
    "    # compute accuracy\n",
    "    auc[i] = roc_auc_score(info.labels_list(label), prob_mat[:,i,:][:, 1])\n",
    "    # fpr, tpr, thresholds = roc_curve(info.labels_list(label), prob_mat[:,i,:][:, 1])\n",
    "    # thresholdOpt = best_threshold(fpr, tpr, thresholds)\n",
    "    # threshold = thresholdOpt\n",
    "    # # accuracy\n",
    "    # accuracy[i] = accuracy_score(info.labels_list(label), y_pred_proba[:, 1] > threshold)\n",
    "    # f1[i] = f1_score(info.labels_list(label), y_pred_proba[:, 1] > threshold)\n",
    "    # precision[i] = precision_score(info.labels_list(label), y_pred_proba[:, 1] > threshold)\n",
    "    # sensitivity[i] = recall_score(info.labels_list(label), y_pred_proba[:, 1] > threshold)\n",
    "    # specificity[i] = recall_score(info.labels_list(label), y_pred_proba[:, 1] > threshold, pos_label=0)\n",
    "    # mcc[i] = matthews_corrcoef(info.labels_list(label), y_pred_proba[:, 1] > threshold)\n",
    "print(f'The mean AUC is: {auc.mean():.2f} +/- {auc.std():.2f}')"
   ]
  }
 ],
 "metadata": {
  "kernelspec": {
   "display_name": "avfu",
   "language": "python",
   "name": "python3"
  },
  "language_info": {
   "codemirror_mode": {
    "name": "ipython",
    "version": 3
   },
   "file_extension": ".py",
   "mimetype": "text/x-python",
   "name": "python",
   "nbconvert_exporter": "python",
   "pygments_lexer": "ipython3",
   "version": "3.10.9"
  },
  "orig_nbformat": 4
 },
 "nbformat": 4,
 "nbformat_minor": 2
}
