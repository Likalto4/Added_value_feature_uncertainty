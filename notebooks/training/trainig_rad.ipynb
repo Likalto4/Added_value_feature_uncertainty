{
 "cells": [
  {
   "cell_type": "code",
   "execution_count": 3,
   "metadata": {},
   "outputs": [],
   "source": [
    "#Add repo path to the system path\n",
    "from pathlib import Path\n",
    "import os, sys\n",
    "repo_path= Path.cwd().resolve()\n",
    "while '.gitignore' not in os.listdir(repo_path): # while not in the root of the repo\n",
    "    repo_path = repo_path.parent #go up one level\n",
    "sys.path.insert(0,str(repo_path)) if str(repo_path) not in sys.path else None\n",
    "\n",
    "# #sklearnex\n",
    "# from sklearnex import patch_sklearn\n",
    "# patch_sklearn()\n",
    "import pandas as pd\n",
    "import matplotlib.pyplot as plt\n",
    "import numpy as np\n",
    "import SimpleITK as sitk\n",
    "from sklearn.linear_model import LogisticRegression\n",
    "import cv2 as cv\n",
    "from radiomics import featureextractor\n",
    "from tqdm import tqdm\n",
    "from IPython.display import clear_output\n",
    "\n",
    "#Import paths and patients classes\n",
    "from notebooks.info import path_label, patient\n",
    "import notebooks.utils as utils"
   ]
  },
  {
   "attachments": {},
   "cell_type": "markdown",
   "metadata": {},
   "source": [
    "# Functions"
   ]
  },
  {
   "cell_type": "code",
   "execution_count": 11,
   "metadata": {},
   "outputs": [],
   "source": [
    "def extractor_settings(param_path, show=False):\n",
    "    \"\"\"set extraction settings for pyradiomics\n",
    "\n",
    "    Args:\n",
    "        param_path (str): relative path of parameter file\n",
    "        show (bool, optional): if printing setting or not. Defaults to False.\n",
    "\n",
    "    Returns:\n",
    "        obj: extractor of pyradiomics\n",
    "    \"\"\"\n",
    "    extractor = featureextractor.RadiomicsFeatureExtractor(str(repo_path /param_path))\n",
    "    if show:\n",
    "        print('Extraction parameters:\\n\\t', extractor.settings)\n",
    "        print('Enabled filters:\\n\\t', extractor.enabledImagetypes)\n",
    "        print('Enabled features:\\n\\t', extractor.enabledFeatures)\n",
    "    return extractor"
   ]
  },
  {
   "cell_type": "code",
   "execution_count": 15,
   "metadata": {},
   "outputs": [],
   "source": [
    "def feature_extraction(df: pd.DataFrame, pat: object, rad: str, time: int, stype: str, i: int):\n",
    "    im = sitk.JoinSeries(pat.im_sitk('SET')) #Add dimension to be able to use pyradiomics. Image (a,b) turns into (a,b,1)\n",
    "    #get radiomics features\n",
    "    param_path = 'data/param_files/Param_64bin_all_radiomics.json' #path of parameter file\n",
    "    extractor = extractor_settings(param_path, show=False)\n",
    "    #mask path\n",
    "    mask_path = str(repo_path / pat.seg_path(rad, time, stype)[0])\n",
    "    #extract\n",
    "    result = extractor.execute(im,mask_path) # Extract features\n",
    "    #feature vector length\n",
    "    fv_len = 102\n",
    "    print(list(result.values())[-fv_len:])\n",
    "    #create df is not yet defined\n",
    "    if df is None:\n",
    "        column_names = list(result.keys())[-fv_len:] #get column names\n",
    "        column_names = [x.replace('original_','') for x in column_names] #remove original_ string\n",
    "        column_names.insert(0, 'pat_num') #insert pat_num at the beginning\n",
    "        df = pd.DataFrame(columns=column_names)\n",
    "    #add feature vector to df if it has values\n",
    "    feature_vector = list(result.values())[-fv_len:] #get feature vector\n",
    "    feature_vector.insert(0, pat.pat_num) #insert pat_num at the beginning\n",
    "    #add feature vector according to loc\n",
    "    df.loc[i] = feature_vector\n",
    "    return df"
   ]
  },
  {
   "attachments": {},
   "cell_type": "markdown",
   "metadata": {},
   "source": [
    "# IMP"
   ]
  },
  {
   "attachments": {},
   "cell_type": "markdown",
   "metadata": {},
   "source": [
    "# Feature extraction"
   ]
  },
  {
   "cell_type": "code",
   "execution_count": 6,
   "metadata": {},
   "outputs": [],
   "source": [
    "# get the name of the features from the budget\n",
    "budget = pd.read_excel(repo_path/ 'data' / 'budget' / 'budget.xlsx' , index_col=0)\n",
    "# change name of column\n",
    "budget.columns = ['budget']\n",
    "# get all features with values greater than 1\n",
    "excluded = budget[budget[ 'budget' ] > 1].index\n",
    "# get all other names\n",
    "included = budget[budget[ 'budget' ] <= 1].index\n",
    "\n",
    "# get info\n",
    "info = path_label()"
   ]
  },
  {
   "cell_type": "code",
   "execution_count": 31,
   "metadata": {},
   "outputs": [
    {
     "name": "stderr",
     "output_type": "stream",
     "text": [
      "100%|██████████| 33/33 [00:09<00:00,  3.39it/s]\n"
     ]
    }
   ],
   "source": [
    "# segmentation type\n",
    "stype='G'\n",
    "general_df = None\n",
    "for rad in ['L', 'V', 'M']:\n",
    "    for time in [1,2]:\n",
    "        df = None # df to store all feature vectors\n",
    "        for i in tqdm(range(info.len)): # go thourgh all patients\n",
    "            pat = patient(info, num=i)\n",
    "            df = feature_extraction(df, pat, rad, time, stype, i)\n",
    "            clear_output(wait=True)\n",
    "        general_df = pd.concat([general_df, df], ignore_index=True)\n",
    "        df.to_csv(repo_path / 'data' / 'features' / f'features_{rad}_{time}_{stype}.csv')\n",
    "general_df.to_csv(repo_path / 'data' / 'features' / f'features_all_time{stype}.csv')"
   ]
  },
  {
   "attachments": {},
   "cell_type": "markdown",
   "metadata": {},
   "source": [
    "# Predictions"
   ]
  },
  {
   "cell_type": "code",
   "execution_count": 56,
   "metadata": {},
   "outputs": [],
   "source": [
    "# get the name of the features from the budget\n",
    "budget = pd.read_excel(repo_path/ 'data' / 'budget' / 'budget.xlsx' , index_col=0)\n",
    "# change name of column\n",
    "budget.columns = ['budget']\n",
    "# get all features with values greater than 1\n",
    "excluded = budget[budget[ 'budget' ] > 1].index\n",
    "# get all other names\n",
    "included = budget[budget[ 'budget' ] <= 1].index\n",
    "\n",
    "# get info\n",
    "info = path_label()"
   ]
  },
  {
   "cell_type": "code",
   "execution_count": 88,
   "metadata": {},
   "outputs": [
    {
     "name": "stdout",
     "output_type": "stream",
     "text": [
      "The 5 features with the largest coefficients are:\n",
      "gldm_SmallDependenceHighGrayLevelEmphasis    0.020403\n",
      "shape2D_Perimeter                            0.008122\n",
      "glszm_SmallAreaHighGrayLevelEmphasis         0.004515\n",
      "glszm_GrayLevelNonUniformity                 0.004029\n",
      "firstorder_Variance                          0.003126\n",
      "dtype: float64\n",
      "\n",
      "Accuracy: 0.7272727272727273\n",
      "A dumb prediction would have an accuracy of: 0.6363636363636364\n"
     ]
    }
   ],
   "source": [
    "# segmentation type\n",
    "stype='G'\n",
    "# label\n",
    "label = 'RP'\n",
    "# get features\n",
    "features = pd.read_csv(repo_path / 'data' / 'features' / f'features_all_time{stype}.csv', index_col=0)\n",
    "features = features.groupby(by='pat_num', axis=0).mean()\n",
    "# remove features in excluded list\n",
    "features = features.drop(excluded, axis=1)\n",
    "\n",
    "# use lasso to select features\n",
    "lasso = LogisticRegression(penalty='l1', solver='liblinear', max_iter=1000)\n",
    "lasso.fit(features, info.labels_list(label))\n",
    "\n",
    "# use laso to select the 5 features with the largest coefficients\n",
    "coef = pd.Series(lasso.coef_[0], index=features.columns)\n",
    "coef = coef.sort_values(ascending=False)\n",
    "coef = coef[coef != 0]\n",
    "coef = coef[:5]\n",
    "print(f'The 5 features with the largest coefficients are:\\n{coef}\\n')\n",
    "\n",
    "x = features[coef.index]\n",
    "y = info.labels_list(label)\n",
    "logreg = LogisticRegression(max_iter=1000)\n",
    "logreg.fit(x, y)\n",
    "# get the accuracy of the model\n",
    "print(f'Accuracy: {logreg.score(x, y)}')\n",
    "print(f'A dumb prediction would have an accuracy of: {np.mean(y)}')"
   ]
  }
 ],
 "metadata": {
  "kernelspec": {
   "display_name": "avfu",
   "language": "python",
   "name": "python3"
  },
  "language_info": {
   "codemirror_mode": {
    "name": "ipython",
    "version": 3
   },
   "file_extension": ".py",
   "mimetype": "text/x-python",
   "name": "python",
   "nbconvert_exporter": "python",
   "pygments_lexer": "ipython3",
   "version": "3.10.9"
  },
  "orig_nbformat": 4
 },
 "nbformat": 4,
 "nbformat_minor": 2
}
