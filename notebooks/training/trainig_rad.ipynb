{
 "cells": [
  {
   "cell_type": "code",
   "execution_count": 1,
   "metadata": {},
   "outputs": [],
   "source": [
    "#Add repo path to the system path\n",
    "from pathlib import Path\n",
    "import os, sys\n",
    "repo_path= Path.cwd().resolve()\n",
    "while '.gitignore' not in os.listdir(repo_path): # while not in the root of the repo\n",
    "    repo_path = repo_path.parent #go up one level\n",
    "sys.path.insert(0,str(repo_path)) if str(repo_path) not in sys.path else None\n",
    "\n",
    "import pandas as pd\n",
    "import matplotlib.pyplot as plt\n",
    "import numpy as np\n",
    "import SimpleITK as sitk\n",
    "import cv2 as cv\n",
    "from radiomics import featureextractor\n",
    "from tqdm import tqdm\n",
    "from IPython.display import clear_output\n",
    "\n",
    "#Import paths and patients classes\n",
    "from notebooks.info import path_label, patient\n",
    "import notebooks.utils as utils"
   ]
  },
  {
   "attachments": {},
   "cell_type": "markdown",
   "metadata": {},
   "source": [
    "# Functions"
   ]
  },
  {
   "cell_type": "code",
   "execution_count": 2,
   "metadata": {},
   "outputs": [],
   "source": [
    "def extractor_settings(param_path, show=False):\n",
    "    \"\"\"set extraction settings for pyradiomics\n",
    "\n",
    "    Args:\n",
    "        param_path (str): relative path of parameter file\n",
    "        show (bool, optional): if printing setting or not. Defaults to False.\n",
    "\n",
    "    Returns:\n",
    "        obj: extractor of pyradiomics\n",
    "    \"\"\"\n",
    "    extractor = featureextractor.RadiomicsFeatureExtractor(str(repo_path /param_path))\n",
    "    if show:\n",
    "        print('Extraction parameters:\\n\\t', extractor.settings)\n",
    "        print('Enabled filters:\\n\\t', extractor.enabledImagetypes)\n",
    "        print('Enabled features:\\n\\t', extractor.enabledFeatures)\n",
    "    return extractor"
   ]
  },
  {
   "cell_type": "code",
   "execution_count": 3,
   "metadata": {},
   "outputs": [],
   "source": [
    "def feature_extraction(df: pd.DataFrame, pat: object, rad: str, time: int, stype: str, i: int):\n",
    "    im = sitk.JoinSeries(pat.im_sitk('SET')) #Add dimension to be able to use pyradiomics. Image (a,b) turns into (a,b,1)\n",
    "    #get radiomics features\n",
    "    param_path = 'data/param_files/Param_64bin_all_radiomics.json' #path of parameter file\n",
    "    extractor = extractor_settings(param_path, show=False)\n",
    "    #mask path\n",
    "    mask_path = str(repo_path / pat.seg_path(rad, time, stype)[0])\n",
    "    #extract\n",
    "    result = extractor.execute(im,mask_path) # Extract features\n",
    "    #feature vector length\n",
    "    fv_len = 102\n",
    "    print(list(result.values())[-fv_len:])\n",
    "    #create df is not yet defined\n",
    "    if df is None:\n",
    "        column_names = list(result.keys())[-fv_len:] #get column names\n",
    "        column_names = [x.replace('original_','') for x in column_names] #remove original_ string\n",
    "        column_names.insert(0, 'pat_num') #insert pat_num at the beginning\n",
    "        df = pd.DataFrame(columns=column_names)\n",
    "    #add feature vector to df if it has values\n",
    "    feature_vector = list(result.values())[-fv_len:] #get feature vector\n",
    "    feature_vector.insert(0, pat.pat_num) #insert pat_num at the beginning\n",
    "    #add feature vector according to loc\n",
    "    df.loc[i] = feature_vector\n",
    "    return df"
   ]
  },
  {
   "attachments": {},
   "cell_type": "markdown",
   "metadata": {},
   "source": [
    "# IMP"
   ]
  },
  {
   "attachments": {},
   "cell_type": "markdown",
   "metadata": {},
   "source": [
    "# Feature extraction"
   ]
  },
  {
   "cell_type": "code",
   "execution_count": 13,
   "metadata": {},
   "outputs": [],
   "source": [
    "# get the name of the features from the budget\n",
    "budget = pd.read_excel(repo_path/ 'data' / 'budget' / 'budget.xlsx' , index_col=0)\n",
    "# change name of column\n",
    "budget.columns = ['budget']\n",
    "# get all features with values greater than 1\n",
    "excluded = budget[budget[ 'budget' ] > 1].index\n",
    "# get all other names\n",
    "included = budget[budget[ 'budget' ] <= 1].index"
   ]
  },
  {
   "cell_type": "code",
   "execution_count": 18,
   "metadata": {},
   "outputs": [],
   "source": [
    "# get info\n",
    "info = path_label()\n",
    "# get patient\n",
    "num = 0\n",
    "pat = patient(info, num)"
   ]
  },
  {
   "cell_type": "code",
   "execution_count": 27,
   "metadata": {},
   "outputs": [
    {
     "name": "stderr",
     "output_type": "stream",
     "text": [
      "100%|██████████| 33/33 [00:10<00:00,  3.28it/s]\n"
     ]
    }
   ],
   "source": [
    "# segmentation type\n",
    "time=1\n",
    "stype='G'\n",
    "for rad in ['L', 'V', 'M']:\n",
    "    for time in [1,2]:\n",
    "        df = None # df to store all feature vectors\n",
    "        for i in tqdm(range(info.len)): # go thourgh all patients\n",
    "            pat = patient(info, num=i)\n",
    "            df = feature_extraction(df, pat, rad, time, stype, i)\n",
    "            clear_output(wait=True)\n",
    "        df.to_csv(repo_path / 'data' / 'features' / f'features_{rad}_{time}_{stype}.csv')"
   ]
  },
  {
   "attachments": {},
   "cell_type": "markdown",
   "metadata": {},
   "source": [
    "# Predictions"
   ]
  },
  {
   "cell_type": "code",
   "execution_count": 2,
   "metadata": {},
   "outputs": [],
   "source": [
    "info = path_label()\n",
    "# get patient\n",
    "num = 0\n",
    "pat = patient(info, num)"
   ]
  }
 ],
 "metadata": {
  "kernelspec": {
   "display_name": "avfu",
   "language": "python",
   "name": "python3"
  },
  "language_info": {
   "codemirror_mode": {
    "name": "ipython",
    "version": 3
   },
   "file_extension": ".py",
   "mimetype": "text/x-python",
   "name": "python",
   "nbconvert_exporter": "python",
   "pygments_lexer": "ipython3",
   "version": "3.10.9"
  },
  "orig_nbformat": 4
 },
 "nbformat": 4,
 "nbformat_minor": 2
}
