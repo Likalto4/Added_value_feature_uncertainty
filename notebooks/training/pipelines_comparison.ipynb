{
 "cells": [
  {
   "cell_type": "code",
   "execution_count": 84,
   "metadata": {},
   "outputs": [],
   "source": [
    "# add repo path to the system path\n",
    "from pathlib import Path\n",
    "import os, sys\n",
    "repo_path= Path.cwd().resolve()\n",
    "while '.gitignore' not in os.listdir(repo_path): # while not in the root of the repo\n",
    "    repo_path = repo_path.parent #go up one level\n",
    "sys.path.insert(0,str(repo_path)) if str(repo_path) not in sys.path else None\n",
    "\n",
    "# #sklearnex\n",
    "# from sklearnex import patch_sklearn\n",
    "# patch_sklearn()\n",
    "import pandas as pd\n",
    "import matplotlib.pyplot as plt\n",
    "import numpy as np\n",
    "import SimpleITK as sitk\n",
    "from sklearn.pipeline import Pipeline\n",
    "from sklearn.model_selection import GridSearchCV\n",
    "# StratifiedKFold\n",
    "from sklearn.model_selection import KFold, StratifiedKFold\n",
    "from sklearn.datasets import make_classification\n",
    "from sklearn.model_selection import cross_val_predict\n",
    "from sklearn.linear_model import LogisticRegression, Lasso\n",
    "from sklearn.ensemble import RandomForestClassifier\n",
    "from sklearn.model_selection import LeaveOneOut\n",
    "from sklearn.metrics import (accuracy_score,\n",
    "                            recall_score,\n",
    "                            precision_score,\n",
    "                            f1_score,\n",
    "                            roc_auc_score,\n",
    "                            roc_curve,\n",
    "                            matthews_corrcoef,\n",
    ")\n",
    "from sklearn.svm import SVC\n",
    "from sklearn.model_selection import RandomizedSearchCV\n",
    "import scipy\n",
    "from sklearn.decomposition import PCA\n",
    "from sklearn.neighbors import KNeighborsClassifier\n",
    "import cv2 as cv\n",
    "from radiomics import featureextractor\n",
    "from tqdm import tqdm\n",
    "from IPython.display import clear_output\n",
    "from sklearn.preprocessing import StandardScaler\n",
    "# RandomizedSearchCV\n",
    "#Import paths and patients classes\n",
    "from notebooks.info import path_label, patient\n",
    "import notebooks.utils as utils# PCA"
   ]
  },
  {
   "cell_type": "code",
   "execution_count": 27,
   "metadata": {},
   "outputs": [],
   "source": [
    "def get_ex_included(budget_path: Path):\n",
    "    \"\"\"get excluded features name using the budget CV value\n",
    "\n",
    "    Args:\n",
    "        budget_path (Path): path to the csv file with the budget\n",
    "\n",
    "    Returns:\n",
    "        sequences: excluded and included features\n",
    "    \"\"\"\n",
    "    # get the name of the features from the budget\n",
    "    budget = pd.read_csv(budget_path, index_col=0)\n",
    "    # change name of column\n",
    "    budget.columns = ['budget']\n",
    "    # get all features with values greater than 1\n",
    "    excluded = budget[budget[ 'budget' ] > 1].index\n",
    "    # get all other names\n",
    "    included = budget[budget[ 'budget' ] <= 1].index\n",
    "    \n",
    "    return excluded, included\n",
    "\n",
    "def get_features(excluded:list):\n",
    "    \"\"\"\n",
    "    return df with features given the segmentation type and excluded features\n",
    "\n",
    "    Args:\n",
    "        stype (str): general or focal\n",
    "        excluded (seq): sequence of excluded features\n",
    "\n",
    "    Returns:\n",
    "        pd.DataFrame: df with features\n",
    "    \"\"\"\n",
    "    # get features\n",
    "    features = pd.read_csv(repo_path / 'data' / 'features' / f'feat_vector.csv', index_col=0)\n",
    "    # remove features in excluded list\n",
    "    features = features.drop(excluded, axis=1)\n",
    "\n",
    "    return features\n",
    "\n",
    "def best_threshold(fpr, tpr, thresholds):\n",
    "    \"\"\"given the roc curve information, it returns the best threshold accoridng to the gmean\n",
    "\n",
    "    Args:\n",
    "        fpr (np.array): false positiva rate values\n",
    "        tpr (np.array): true positive rate values\n",
    "        thresholds (np.array): thresholds found for the ROC curve\n",
    "\n",
    "    Returns:\n",
    "        float: optimal threshold\n",
    "    \"\"\"\n",
    "    # Calculate the G-mean\n",
    "    gmean = np.sqrt(tpr * (1 - fpr))\n",
    "    # Find the optimal threshold\n",
    "    index = np.argmax(gmean)\n",
    "    thresholdOpt = round(thresholds[index], ndigits = 4)\n",
    "    # gmeanOpt = round(gmean[index], ndigits = 4)\n",
    "    # fprOpt = round(fpr[index], ndigits = 4)\n",
    "    # tprOpt = round(tpr[index], ndigits = 4)\n",
    "\n",
    "    return thresholdOpt"
   ]
  },
  {
   "cell_type": "markdown",
   "metadata": {},
   "source": [
    "# Traditional"
   ]
  },
  {
   "cell_type": "code",
   "execution_count": 36,
   "metadata": {},
   "outputs": [
    {
     "name": "stdout",
     "output_type": "stream",
     "text": [
      "The features removed are ['glcm_ClusterShade'] beacuse their budget value is greater than 1\n"
     ]
    }
   ],
   "source": [
    "# load info class\n",
    "info = path_label()\n",
    "\n",
    "# experiment HP\n",
    "label = 'RP' # receptor type (RP, RE, ki67)\n",
    "\n",
    "# load features# PCA\n",
    "budget_path = repo_path/ 'data' / 'budget' / 'budget_ROI_and_rad.csv'\n",
    "excluded, _ = get_ex_included(budget_path) # get excluded features due to their budget value\n",
    "features = get_features(excluded)\n",
    "print(f'The featu# RandomizedSearchCVres removed PCAare {excluded.values} beacuse their budget value is greater than 1')"
   ]
  },
  {
   "cell_type": "markdown",
   "metadata": {},
   "source": [
    "LASSO"
   ]
  },
  {
   "cell_type": "code",
   "execution_count": 143,
   "metadata": {},
   "outputs": [
    {
     "name": "stdout",
     "output_type": "stream",
     "text": [
      "The number of patients (n) is: 33\n",
      "The number of features (p) is: 101\n",
      "The number of features selected is: 5\n",
      "The features selected are: ['firstorder_Range' 'firstorder_Skewness' 'glszm_GrayLevelNonUniformity'\n",
      " 'glrlm_RunEntropy' 'ngtdm_Busyness']\n"
     ]
    }
   ],
   "source": [
    "n = features.shape[0] # number of patients\n",
    "p = features.shape[1] # number of features\n",
    "# feature selection using lasso\n",
    "print(f'The number of patients (n) is: {n}\\nThe number of features (p) is: {p}')\n",
    "\n",
    "# prepare data\n",
    "y = np.asarray(info.labels_list(label))\n",
    "x = np.asarray(features)\n",
    "\n",
    "# define lasso\n",
    "pipe_lasso = Pipeline([\n",
    "    ('scaler', StandardScaler()),\n",
    "    ('lasso', LogisticRegression(penalty='l1', solver='liblinear', class_weight=None, C=0.5, max_iter=1000))\n",
    "    ])\n",
    "# apply in ALL dataset\n",
    "pipe_lasso.fit(x, y)\n",
    "coef = pipe_lasso.named_steps['lasso'].coef_\n",
    "# get the features that are not zero\n",
    "features_selected = features.columns[coef[0] != 0]\n",
    "print(f'The number of features selected is: {len(features_selected)}')\n",
    "print(f'The features selected are: {features_selected.values}')\n",
    "\n",
    "x = np.asarray(features[features_selected])\n"
   ]
  },
  {
   "cell_type": "code",
   "execution_count": 142,
   "metadata": {},
   "outputs": [],
   "source": [
    "def classifier_and_grid(method, grid='normal',verbose=1, reductor_components=[1]):\n",
    "  \"\"\"\n",
    "  Definition of the classifier grid method for the hyperparameters search.\n",
    "  :param method: learning method name (SVM, random forest, etc.)\n",
    "  :param grid: type of grid search given (random or normal)\n",
    "  \"\"\"\n",
    "  n_splits = 5\n",
    "  #KNN\n",
    "  if(method=='KNN'):\n",
    "    param_grid = {'classifier__n_neighbors': list(range(1,40))}\n",
    "    pipe = Pipeline([('scaler', StandardScaler()),('classifier',KNeighborsClassifier())])\n",
    "    grid = GridSearchCV(pipe, param_grid, scoring='accuracy', verbose = verbose)\n",
    "    return grid\n",
    "  #KNN with PCA\n",
    "  elif(method=='KNN_PCA'):# PCA\n",
    "    param_grid = {'reductor__n_components': reductor_components,'classifier__n_neighbors': list(range(1,30))}\n",
    "    pipe = Pipeline([('scaler', StandardScaler()),('reductor',PCA()),('classifier',KNeighborsClassifier())])\n",
    "    grid = GridSearchCV(pipe, param_grid, scoring='accuracy', verbose = verbose)\n",
    "    return grid\n",
    "  #SVM with PCA\n",
    "  elif(method=='SVM_PCA'):\n",
    "    if(grid=='normal'):\n",
    "      param_grid = {'reductor__n_components': reductor_components,'classifier__C': [0.1, 1, 10, 100],\n",
    "              'classifier__gamma': [100, 10, 1, 0.1, 0.01, 0.001, 0.0001],\n",
    "              'classifier__kernel': ['rbf']}\n",
    "      pipe = Pipeline([('scaler', StandardScaler()),('reductor',PCA()),('classifier',SVC())])\n",
    "      grid = GridSearchCV(pipe, param_grid, scoring='accuracy', cv = StratifiedKFold(n_splits=n_splits) ,verbose = verbose)\n",
    "      return grid\n",
    "    elif(grid=='random'):\n",
    "      parameters = {'reductor__n_components': reductor_components,'classifier__C': scipy.stats.expon(scale=10), 'classifier__gamma': scipy.stats.expon(scale=.001), #Parameters for grid search\n",
    "      'classifier__kernel': ['rbf'], 'classifier__class_weight':['balanced']}\n",
    "      pipe = Pipeline([('scaler', StandardScaler()),('reductor',PCA()), ('classifier',SVC())]) #Definition of pipeline\n",
    "      grid = RandomizedSearchCV(pipe, parameters,n_iter=20, scoring='accuracy', cv = StratifiedKFold(n_splits=n_splits) , verbose=verbose, return_train_score=False) #Random search\n",
    "      return grid\n",
    "  #SVM no PCA    \n",
    "  elif(method=='SVM'):\n",
    "    if(grid=='normal'):\n",
    "      param_grid = {'classifier__C': [0.1, 1, 10, 100],\n",
    "              'classifier__gamma': [100, 10, 1, 0.1, 0.01, 0.001, 0.0001],\n",
    "              'classifier__kernel': ['rbf'],'classifier__class_weight':['balanced']}\n",
    "      pipe = Pipeline([('scaler', StandardScaler()),('classifier',SVC(probability=True))])\n",
    "      grid = GridSearchCV(pipe, param_grid, scoring='accuracy', verbose = verbose)\n",
    "      return grid\n",
    "    elif(grid=='random'):\n",
    "      parameters = {'classifier__C': scipy.stats.expon(scale=10), 'classifier__gamma': scipy.stats.expon(scale=.001), #Parameters for grid search\n",
    "      'classifier__kernel': ['rbf'], 'classifier__class_weight':['balanced']}\n",
    "      pipe = Pipeline([('scaler', StandardScaler()),('classifier',SVC())]) #Definition of pipeline\n",
    "      grid = RandomizedSearchCV(pipe, parameters,n_iter=100, scoring='accuracy', verbose=verbose, return_train_score=False) #Random search\n",
    "      return grid\n",
    "  #Random forest\n",
    "  elif(method=='RF'):\n",
    "    param_grid = {'classifier__n_estimators': [100, 200, 400, 600, 800],}\n",
    "    pipe = Pipeline([('scaler', StandardScaler()),('classifier',RandomForestClassifier())])\n",
    "    grid = GridSearchCV(pipe, param_grid, scoring='accuracy', verbose = verbose)\n",
    "    return grid\n",
    "  #Random forest with PCA\n",
    "  elif(method=='RF_PCA'):\n",
    "    param_grid = {'reductor__n_components': reductor_components,'classifier__n_estimators': [100, 200, 400, 600, 800],}\n",
    "    pipe = Pipeline([('scaler', StandardScaler()),('reductor',PCA()), ('classifier',RandomForestClassifier())])\n",
    "    grid = GridSearchCV(pipe, param_grid, scoring='accuracy', verbose = verbose)\n",
    "    return grid"
   ]
  },
  {
   "cell_type": "code",
   "execution_count": 146,
   "metadata": {},
   "outputs": [
    {
     "name": "stderr",
     "output_type": "stream",
     "text": [
      "Folds: 100%|██████████| 33/33 [00:06<00:00,  5.04it/s]\n"
     ]
    }
   ],
   "source": [
    "grid = classifier_and_grid('SVM',grid='normal',verbose=0, reductor_components=[1])\n",
    "\n",
    "# use kfold\n",
    "kfold = KFold(n_splits=n)\n",
    "\n",
    "prob_matrix = np.zeros(shape=(n, 2))\n",
    "# go through each fold\n",
    "counter = tqdm(total=n, desc='Folds')\n",
    "best_pipes = []\n",
    "for train, test in kfold.split(x, y):\n",
    "    # fit\n",
    "    grid.fit(x[train], y[train])\n",
    "    # predict\n",
    "    prob_matrix[test] = grid.predict_proba(x[test])\n",
    "    # save best pipe\n",
    "    best_pipes.append(grid.best_estimator_)\n",
    "    # update progress bar\n",
    "    counter.update(1)\n",
    "# close progress bar\n",
    "counter.close()"
   ]
  },
  {
   "cell_type": "code",
   "execution_count": 148,
   "metadata": {},
   "outputs": [
    {
     "name": "stdout",
     "output_type": "stream",
     "text": [
      "The optimal threshold is: 0.6323\n",
      "Accuracy: 0.6666666666666666\n",
      "F1 score: 0.7441860465116279\n",
      "Precision: 0.7272727272727273\n",
      "Sensitivity: 0.7619047619047619\n",
      "Specificity: 0.5\n",
      "MCC: 0.2672612419124244\n"
     ]
    },
    {
     "data": {
      "text/plain": [
       "[<matplotlib.lines.Line2D at 0x7fb28896fd60>]"
      ]
     },
     "execution_count": 148,
     "metadata": {},
     "output_type": "execute_result"
    },
    {
     "data": {
      "image/png": "[encoded data removed]",
      "text/plain": [
       "<Figure size 640x480 with 1 Axes>"
      ]
     },
     "metadata": {},
     "output_type": "display_data"
    },
    {
     "data": {
      "image/png": "[encoded data removed]",
      "text/plain": [
       "<Figure size 700x500 with 1 Axes>"
      ]
     },
     "metadata": {},
     "output_type": "display_data"
    }
   ],
   "source": [
    "# show results\n",
    "# get roc curve\n",
    "fpr, tpr, thresholds = roc_curve(y, prob_matrix[:, 1])\n",
    "# compute auc\n",
    "auc = roc_auc_score(y, prob_matrix[:, 1])\n",
    "# plot roc curve\n",
    "plt.plot(fpr, tpr, label=f'auc = {auc:.2f}')\n",
    "plt.xlabel('False Positive Rate')\n",
    "plt.ylabel('True Positive Rate')\n",
    "plt.legend()\n",
    "# get optimal threshold\n",
    "op_threshold = best_threshold(fpr, tpr, thresholds)\n",
    "print(f'The optimal threshold is: {op_threshold}')\n",
    "# define threshold\n",
    "threshold = op_threshold\n",
    "# compute metrics\n",
    "# accuracy\n",
    "accuracy = accuracy_score(info.labels_list(label), prob_matrix[:, 1] > threshold)\n",
    "print(f'Accuracy: {accuracy}')\n",
    "# F1 score\n",
    "f1 = f1_score(info.labels_list(label), prob_matrix[:, 1] > threshold)\n",
    "print(f'F1 score: {f1}')\n",
    "# precision\n",
    "precision = precision_score(info.labels_list(label), prob_matrix[:, 1] > threshold)\n",
    "print(f'Precision: {precision}')\n",
    "# sensitivity (recall, TPR)\n",
    "sensitivity = recall_score(info.labels_list(label), prob_matrix[:, 1] > threshold)\n",
    "print(f'Sensitivity: {sensitivity}')\n",
    "# specificity (TNR)\n",
    "specificity = recall_score(info.labels_list(label), prob_matrix[:, 1] > threshold, pos_label=0)\n",
    "print(f'Specificity: {specificity}')\n",
    "# MCC\n",
    "mcc = matthews_corrcoef(info.labels_list(label), prob_matrix[:, 1] > threshold)\n",
    "print(f'MCC: {mcc}')\n",
    "\n",
    "# plot prediciton values, with their corresponding labels in color\n",
    "plt.figure(figsize=(7,5))\n",
    "plt.scatter(range(len(info.labels_list(label))), prob_matrix[:, 1],c=info.labels_list(label))\n",
    "# plot threshold line\n",
    "plt.plot([0, len(info.labels_list(label))], [threshold, threshold], 'k--')"
   ]
  },
  {
   "cell_type": "markdown",
   "metadata": {},
   "source": [
    "Testing with budget"
   ]
  },
  {
   "cell_type": "code",
   "execution_count": 131,
   "metadata": {},
   "outputs": [
    {
     "data": {
      "text/html": [
       "<div>\n",
       "<style scoped>\n",
       "    .dataframe tbody tr th:only-of-type {\n",
       "        vertical-align: middle;\n",
       "    }\n",
       "\n",
       "    .dataframe tbody tr th {\n",
       "        vertical-align: top;\n",
       "    }\n",
       "\n",
       "    .dataframe thead th {\n",
       "        text-align: right;\n",
       "    }\n",
       "</style>\n",
       "<table border=\"1\" class=\"dataframe\">\n",
       "  <thead>\n",
       "    <tr style=\"text-align: right;\">\n",
       "      <th></th>\n",
       "      <th>firstorder_Range</th>\n",
       "      <th>firstorder_Skewness</th>\n",
       "      <th>glszm_GrayLevelNonUniformity</th>\n",
       "      <th>glrlm_RunEntropy</th>\n",
       "      <th>ngtdm_Busyness</th>\n",
       "    </tr>\n",
       "  </thead>\n",
       "  <tbody>\n",
       "    <tr>\n",
       "      <th>0</th>\n",
       "      <td>89.594222</td>\n",
       "      <td>-0.061531</td>\n",
       "      <td>627.105016</td>\n",
       "      <td>0.089743</td>\n",
       "      <td>1.313265</td>\n",
       "    </tr>\n",
       "  </tbody>\n",
       "</table>\n",
       "</div>"
      ],
      "text/plain": [
       "   firstorder_Range  firstorder_Skewness  glszm_GrayLevelNonUniformity  \\\n",
       "0         89.594222            -0.061531                    627.105016   \n",
       "\n",
       "   glrlm_RunEntropy  ngtdm_Busyness  \n",
       "0          0.089743        1.313265  "
      ]
     },
     "execution_count": 131,
     "metadata": {},
     "output_type": "execute_result"
    }
   ],
   "source": [
    "# read budget\n",
    "active_budget = pd.read_csv(repo_path / 'data' / 'budget' / 'budget_computations.csv', index_col=0)\n",
    "active_budget = active_budget.T[features_selected]\n"
   ]
  }
 ],
 "metadata": {
  "kernelspec": {
   "display_name": "avfu",
   "language": "python",
   "name": "python3"
  },
  "language_info": {
   "codemirror_mode": {
    "name": "ipython",
    "version": 3
   },
   "file_extension": ".py",
   "mimetype": "text/x-python",
   "name": "python",
   "nbconvert_exporter": "python",
   "pygments_lexer": "ipython3",
   "version": "3.10.9"
  },
  "orig_nbformat": 4
 },
 "nbformat": 4,
 "nbformat_minor": 2
}
