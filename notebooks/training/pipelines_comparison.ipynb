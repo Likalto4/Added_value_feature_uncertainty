{
 "cells": [
  {
   "cell_type": "code",
   "execution_count": 1,
   "metadata": {},
   "outputs": [],
   "source": [
    "# add repo path to the system path\n",
    "from pathlib import Path\n",
    "import os, sys\n",
    "repo_path= Path.cwd().resolve()\n",
    "while '.gitignore' not in os.listdir(repo_path): # while not in the root of the repo\n",
    "    repo_path = repo_path.parent #go up one level\n",
    "sys.path.insert(0,str(repo_path)) if str(repo_path) not in sys.path else None\n",
    "\n",
    "# #sklearnex\n",
    "# from sklearnex import patch_sklearn\n",
    "# patch_sklearn()\n",
    "import pandas as pd\n",
    "import matplotlib.pyplot as plt\n",
    "import numpy as np\n",
    "import SimpleITK as sitk\n",
    "from sklearn.pipeline import Pipeline\n",
    "from sklearn.model_selection import GridSearchCV\n",
    "# StratifiedKFold\n",
    "from sklearn.model_selection import KFold, StratifiedKFold\n",
    "from sklearn.datasets import make_classification\n",
    "from sklearn.model_selection import cross_val_predict\n",
    "from sklearn.linear_model import LogisticRegression, Lasso\n",
    "from sklearn.ensemble import RandomForestClassifier\n",
    "from sklearn.model_selection import LeaveOneOut\n",
    "from sklearn.metrics import (accuracy_score,\n",
    "                            recall_score,\n",
    "                            precision_score,\n",
    "                            f1_score,\n",
    "                            roc_auc_score,\n",
    "                            roc_curve,\n",
    "                            matthews_corrcoef,\n",
    ")\n",
    "from sklearn.svm import SVC\n",
    "from sklearn.model_selection import RandomizedSearchCV\n",
    "import scipy\n",
    "from sklearn.decomposition import PCA\n",
    "from sklearn.neighbors import KNeighborsClassifier\n",
    "import cv2 as cv\n",
    "from radiomics import featureextractor\n",
    "from tqdm import tqdm\n",
    "from IPython.display import clear_output\n",
    "from sklearn.preprocessing import StandardScaler\n",
    "# RandomizedSearchCV\n",
    "#Import paths and patients classes\n",
    "from notebooks.info import path_label, patient\n",
    "import notebooks.utils as utils# PCA"
   ]
  },
  {
   "cell_type": "code",
   "execution_count": 2,
   "metadata": {},
   "outputs": [],
   "source": [
    "def get_ex_included(budget_path: Path):\n",
    "    \"\"\"get excluded features name using the budget CV value\n",
    "\n",
    "    Args:\n",
    "        budget_path (Path): path to the csv file with the budget\n",
    "\n",
    "    Returns:\n",
    "        sequences: excluded and included features\n",
    "    \"\"\"\n",
    "    # get the name of the features from the budget\n",
    "    budget = pd.read_csv(budget_path, index_col=0)\n",
    "    # change name of column\n",
    "    budget.columns = ['budget']\n",
    "    # get all features with values greater than 1\n",
    "    excluded = budget[budget[ 'budget' ] > 1].index\n",
    "    # get all other names\n",
    "    included = budget[budget[ 'budget' ] <= 1].index\n",
    "    \n",
    "    return excluded, included\n",
    "\n",
    "def get_features(excluded:list):\n",
    "    \"\"\"\n",
    "    return df with features given the segmentation type and excluded features\n",
    "\n",
    "    Args:\n",
    "        stype (str): general or focal\n",
    "        excluded (seq): sequence of excluded features\n",
    "\n",
    "    Returns:\n",
    "        pd.DataFrame: df with features\n",
    "    \"\"\"\n",
    "    # get features\n",
    "    features = pd.read_csv(repo_path / 'data' / 'features' / f'feat_vector.csv', index_col=0)\n",
    "    # remove features in excluded list\n",
    "    features = features.drop(excluded, axis=1)\n",
    "\n",
    "    return features\n",
    "\n",
    "def best_threshold(fpr, tpr, thresholds):\n",
    "    \"\"\"given the roc curve information, it returns the best threshold accoridng to the gmean\n",
    "\n",
    "    Args:\n",
    "        fpr (np.array): false positiva rate values\n",
    "        tpr (np.array): true positive rate values\n",
    "        thresholds (np.array): thresholds found for the ROC curve\n",
    "\n",
    "    Returns:\n",
    "        float: optimal threshold\n",
    "    \"\"\"\n",
    "    # Calculate the G-mean\n",
    "    gmean = np.sqrt(tpr * (1 - fpr))\n",
    "    # Find the optimal threshold\n",
    "    index = np.argmax(gmean)\n",
    "    thresholdOpt = round(thresholds[index], ndigits = 4)\n",
    "    # gmeanOpt = round(gmean[index], ndigits = 4)\n",
    "    # fprOpt = round(fpr[index], ndigits = 4)\n",
    "    # tprOpt = round(tpr[index], ndigits = 4)\n",
    "\n",
    "    return thresholdOpt"
   ]
  },
  {
   "cell_type": "markdown",
   "metadata": {},
   "source": [
    "# Traditional"
   ]
  },
  {
   "cell_type": "code",
   "execution_count": 4,
   "metadata": {},
   "outputs": [
    {
     "name": "stdout",
     "output_type": "stream",
     "text": [
      "The features removed are ['glcm_ClusterShade'] beacuse their budget value is greater than 1\n"
     ]
    }
   ],
   "source": [
    "# load info class\n",
    "info = path_label()\n",
    "\n",
    "# experiment HP\n",
    "label = 'RP' # receptor type (RP, RE, ki67)\n",
    "\n",
    "# load features# PCA\n",
    "budget_path = repo_path/ 'data' / 'budget' / 'budget_ROI_and_rad.csv'\n",
    "excluded, _ = get_ex_included(budget_path) # get excluded features due to their budget value\n",
    "features = get_features(excluded)\n",
    "print(f'The features removed are {excluded.values} beacuse their budget value is greater than 1')"
   ]
  },
  {
   "cell_type": "markdown",
   "metadata": {},
   "source": [
    "LASSO"
   ]
  },
  {
   "cell_type": "code",
   "execution_count": 277,
   "metadata": {},
   "outputs": [
    {
     "name": "stdout",
     "output_type": "stream",
     "text": [
      "The number of patients (n) is: 33\n",
      "The number of features (p) is: 101\n",
      "The number of features selected is: 16\n",
      "The features selected are: ['shape2D_Elongation' 'shape2D_MajorAxisLength' 'shape2D_MaximumDiameter'\n",
      " 'shape2D_MinorAxisLength' 'shape2D_Sphericity' 'firstorder_Maximum'\n",
      " 'firstorder_Range' 'firstorder_Skewness' 'glcm_Imc1' 'glcm_Imc2'\n",
      " 'glcm_MCC' 'glrlm_GrayLevelNonUniformity' 'ngtdm_Busyness'\n",
      " 'ngtdm_Complexity' 'gldm_GrayLevelNonUniformity'\n",
      " 'gldm_SmallDependenceHighGrayLevelEmphasis']\n",
      "The accuracy is: 1.0\n",
      "The last size of the features is: (33, 16)\n"
     ]
    }
   ],
   "source": [
    "n = features.shape[0] # number of patients\n",
    "p = features.shape[1] # number of features\n",
    "# feature selection using lasso\n",
    "print(f'The number of patients (n) is: {n}\\nThe number of features (p) is: {p}')\n",
    "\n",
    "# prepare data\n",
    "y = np.asarray(info.labels_list(label))\n",
    "x = np.asarray(features)\n",
    "\n",
    "# define lasso\n",
    "pipe_lasso = Pipeline([\n",
    "    ('scaler', StandardScaler()),\n",
    "    ('lasso', LogisticRegression(penalty='l1', solver='liblinear', class_weight=None, C=10, max_iter=1000))\n",
    "    ])\n",
    "# apply in ALL dataset\n",
    "pipe_lasso.fit(x, y)\n",
    "coef = pipe_lasso.named_steps['lasso'].coef_\n",
    "# get the features that are not zero\n",
    "features_selected = features.columns[coef[0] != 0]\n",
    "print(f'The number of features selected is: {len(features_selected)}')\n",
    "print(f'The features selected are: {features_selected.values}')\n",
    "\n",
    "# predict\n",
    "y_pred = pipe_lasso.predict_proba(x)\n",
    "# get acc\n",
    "acc = accuracy_score(y, y_pred.argmax(axis=1))\n",
    "print(f'The accuracy is: {acc}')\n",
    "\n",
    "\n",
    "x = np.asarray(features[features_selected])\n",
    "# the lasso selected features size are:\n",
    "print(f'The last size of the features is: {x.shape}')\n"
   ]
  },
  {
   "cell_type": "code",
   "execution_count": 397,
   "metadata": {},
   "outputs": [],
   "source": [
    "def classifier_and_grid(method, grid='normal',verbose=1, reductor_components=[1]):\n",
    "  \"\"\"\n",
    "  Definition of the classifier grid method for the hyperparameters search.\n",
    "  :param method: learning method name (SVM, random forest, etc.)\n",
    "  :param grid: type of grid search given (random or normal)\n",
    "  \"\"\"\n",
    "  n_splits = 5\n",
    "  #KNN\n",
    "  if(method=='KNN'):\n",
    "    param_grid = {'classifier__n_neighbors': list(range(1,32))}\n",
    "    pipe = Pipeline([('scaler', StandardScaler()),('classifier',KNeighborsClassifier())])\n",
    "    grid = GridSearchCV(pipe, param_grid, scoring='accuracy', verbose = verbose)\n",
    "    return grid\n",
    "  #KNN with PCA\n",
    "  elif(method=='KNN_PCA'):# PCA\n",
    "    param_grid = {'reductor__n_components': reductor_components,'classifier__n_neighbors': list(range(1,30))}\n",
    "    pipe = Pipeline([('scaler', StandardScaler()),('reductor',PCA()),('classifier',KNeighborsClassifier())])\n",
    "    grid = GridSearchCV(pipe, param_grid, scoring='accuracy', verbose = verbose)\n",
    "    return grid\n",
    "  #SVM with PCA\n",
    "  elif(method=='SVM_PCA'):\n",
    "    if(grid=='normal'):\n",
    "      param_grid = {'reductor__n_components': reductor_components,'classifier__C': [0.1, 1, 10, 100],\n",
    "              'classifier__gamma': [100, 10, 1, 0.1, 0.01, 0.001, 0.0001],\n",
    "              'classifier__kernel': ['rbf']}\n",
    "      pipe = Pipeline([('scaler', StandardScaler()),('reductor',PCA()),('classifier',SVC())])\n",
    "      grid = GridSearchCV(pipe, param_grid, scoring='accuracy', cv = StratifiedKFold(n_splits=n_splits) ,verbose = verbose)\n",
    "      return grid\n",
    "    elif(grid=='random'):\n",
    "      parameters = {'reductor__n_components': reductor_components,'classifier__C': scipy.stats.expon(scale=10), 'classifier__gamma': scipy.stats.expon(scale=.001), #Parameters for grid search\n",
    "      'classifier__kernel': ['rbf'], 'classifier__class_weight':['balanced']}\n",
    "      pipe = Pipeline([('scaler', StandardScaler()),('reductor',PCA()), ('classifier',SVC())]) #Definition of pipeline\n",
    "      grid = RandomizedSearchCV(pipe, parameters,n_iter=20, scoring='accuracy', cv = StratifiedKFold(n_splits=n_splits) , verbose=verbose, return_train_score=False) #Random search\n",
    "      return grid\n",
    "  #SVM no PCA    \n",
    "  elif(method=='SVM'):\n",
    "    if(grid=='normal'):\n",
    "      param_grid = {'classifier__C': [0.1, 1, 10, 100],\n",
    "              'classifier__gamma': [100, 10, 1, 0.1, 0.01, 0.001, 0.0001],\n",
    "              'classifier__kernel': ['rbf', 'linear'],'classifier__class_weight':['balanced']}\n",
    "      pipe = Pipeline([('scaler', StandardScaler()),('classifier',SVC(probability=True))])\n",
    "      grid = GridSearchCV(pipe, param_grid, scoring='accuracy', verbose = verbose)\n",
    "      return grid\n",
    "    elif(grid=='random'):\n",
    "      parameters = {'classifier__C': scipy.stats.expon(scale=10), 'classifier__gamma': scipy.stats.expon(scale=.001), #Parameters for grid search\n",
    "      'classifier__kernel': ['rbf'], 'classifier__class_weight':['balanced']}\n",
    "      pipe = Pipeline([('scaler', StandardScaler()),('classifier',SVC(probability=True))]) #Definition of pipeline\n",
    "      grid = RandomizedSearchCV(pipe, parameters,n_iter=100, scoring='accuracy', verbose=verbose, return_train_score=False) #Random search\n",
    "      return grid\n",
    "  #Random forest\n",
    "  elif(method=='RF'):\n",
    "    param_grid = {'classifier__n_estimators': [100, 200, 400, 600, 800],}\n",
    "    pipe = Pipeline([('scaler', StandardScaler()),('classifier',RandomForestClassifier())])\n",
    "    grid = GridSearchCV(pipe, param_grid, scoring='accuracy', verbose = verbose)\n",
    "    return grid\n",
    "  # LASSO\n",
    "  elif(method=='LASSO'):\n",
    "    param_grid = {'classifier__C': [0.1, 1, 10, 100, 1000], 'classifier__class_weight':['balanced', None], 'classifier__penalty':['l1']}\n",
    "    pipe = Pipeline([\n",
    "    ('scaler', StandardScaler()),\n",
    "    ('classifier', LogisticRegression(solver='liblinear',max_iter=1000))\n",
    "    ])\n",
    "    grid = GridSearchCV(pipe, param_grid, scoring='accuracy', verbose = verbose)\n",
    "    return grid"
   ]
  },
  {
   "cell_type": "code",
   "execution_count": 274,
   "metadata": {},
   "outputs": [
    {
     "name": "stderr",
     "output_type": "stream",
     "text": [
      "Folds: 100%|██████████| 33/33 [00:13<00:00,  2.44it/s]"
     ]
    },
    {
     "name": "stdout",
     "output_type": "stream",
     "text": [
      "The best estimator is: SVC(C=10, class_weight='balanced', gamma=100, kernel='linear', probability=True)\n"
     ]
    },
    {
     "name": "stderr",
     "output_type": "stream",
     "text": [
      "\n"
     ]
    }
   ],
   "source": [
    "grid = classifier_and_grid('SVM',grid='normal',verbose=0)\n",
    "\n",
    "# use kfold\n",
    "kfold = KFold(n_splits=n)\n",
    "\n",
    "prob_matrix = np.zeros(shape=(n, 2))\n",
    "# go through each fold\n",
    "counter = tqdm(total=n, desc='Folds')\n",
    "best_pipes = []\n",
    "for train, test in kfold.split(x, y):\n",
    "    # fit\n",
    "    grid.fit(x[train], y[train])\n",
    "    # predict\n",
    "    prob_matrix[test] = grid.predict_proba(x[test])\n",
    "    # save best pipe\n",
    "    best_pipes.append(grid.best_estimator_)\n",
    "    # update progress bar\n",
    "    counter.update(1)\n",
    "# close progress bar\n",
    "counter.close()"
   ]
  },
  {
   "cell_type": "code",
   "execution_count": 289,
   "metadata": {},
   "outputs": [
    {
     "name": "stdout",
     "output_type": "stream",
     "text": [
      "The optimal threshold is: 0.601\n",
      "Accuracy: 0.7575757575757576\n",
      "F1 score: 0.8\n",
      "Precision: 0.8421052631578947\n",
      "Sensitivity: 0.7619047619047619\n",
      "Specificity: 0.75\n",
      "MCC: 0.49825150775877064\n"
     ]
    },
    {
     "data": {
      "text/plain": [
       "[<matplotlib.lines.Line2D at 0x7f3db0781de0>]"
      ]
     },
     "execution_count": 289,
     "metadata": {},
     "output_type": "execute_result"
    },
    {
     "data": {
      "image/png": "[encoded data removed]",
      "text/plain": [
       "<Figure size 640x480 with 1 Axes>"
      ]
     },
     "metadata": {},
     "output_type": "display_data"
    },
    {
     "data": {
      "image/png": "[encoded data removed]",
      "text/plain": [
       "<Figure size 700x500 with 1 Axes>"
      ]
     },
     "metadata": {},
     "output_type": "display_data"
    }
   ],
   "source": [
    "# show results\n",
    "prob_values = prob_matrix[:, 1]\n",
    "# get roc curve\n",
    "fpr, tpr, thresholds = roc_curve(y, prob_values)\n",
    "# compute auc\n",
    "auc = roc_auc_score(y, prob_values)\n",
    "# plot roc curve\n",
    "plt.plot(fpr, tpr, label=f'auc = {auc:.2f}')\n",
    "plt.xlabel('False Positive Rate')\n",
    "plt.ylabel('True Positive Rate')\n",
    "plt.legend()\n",
    "# get optimal threshold\n",
    "op_threshold = best_threshold(fpr, tpr, thresholds)\n",
    "print(f'The optimal threshold is: {op_threshold}')\n",
    "# define threshold\n",
    "threshold = op_threshold\n",
    "# compute metrics\n",
    "# accuracy\n",
    "accuracy = accuracy_score(info.labels_list(label), prob_values > threshold)\n",
    "print(f'Accuracy: {accuracy}')\n",
    "# F1 score\n",
    "f1 = f1_score(info.labels_list(label), prob_values > threshold)\n",
    "print(f'F1 score: {f1}')\n",
    "# precision\n",
    "precision = precision_score(info.labels_list(label), prob_values > threshold)\n",
    "print(f'Precision: {precision}')\n",
    "# sensitivity (recall, TPR)\n",
    "sensitivity = recall_score(info.labels_list(label), prob_values > threshold)\n",
    "print(f'Sensitivity: {sensitivity}')\n",
    "# specificity (TNR)\n",
    "specificity = recall_score(info.labels_list(label), prob_values > threshold, pos_label=0)\n",
    "print(f'Specificity: {specificity}')\n",
    "# MCC\n",
    "mcc = matthews_corrcoef(info.labels_list(label), prob_values > threshold)\n",
    "print(f'MCC: {mcc}')\n",
    "\n",
    "# plot prediciton values, with their corresponding labels in color\n",
    "plt.figure(figsize=(7,5))\n",
    "plt.scatter(range(len(info.labels_list(label))), prob_values,c=info.labels_list(label))\n",
    "# plot threshold line\n",
    "plt.plot([0, len(info.labels_list(label))], [threshold, threshold], 'k--')"
   ]
  },
  {
   "cell_type": "markdown",
   "metadata": {},
   "source": [
    "Testing with budget"
   ]
  },
  {
   "cell_type": "code",
   "execution_count": 309,
   "metadata": {},
   "outputs": [
    {
     "name": "stdout",
     "output_type": "stream",
     "text": [
      "The mean AUC is: 0.64 +/- 0.08\n"
     ]
    }
   ],
   "source": [
    "# read budget\n",
    "active_budget = pd.read_csv(repo_path / 'data' / 'budget' / 'budget_computations.csv', index_col=0)\n",
    "active_budget = active_budget.T[features_selected].abs()\n",
    "\n",
    "# HP\n",
    "num_samples = 1000\n",
    "# probability matrix\n",
    "prob_mat = np.zeros(shape=(x.shape[0], num_samples, 2))\n",
    "\n",
    "for i, (train, test) in enumerate(kfold.split(x, y)):\n",
    "    # get test data\n",
    "    x_test = features[features_selected].iloc[test]\n",
    "    # generate 1000 random samples from a normal distribution using the x_test values as mean and the budget as std\n",
    "    samples = np.random.normal(x_test, active_budget, size=(num_samples, x_test.shape[1]))\n",
    "    # samples = pd.DataFrame(samples)\n",
    "    # samples.columns = x_test.columns # same column names for the standard scaler\n",
    "    y_proba = best_pipes[i].predict_proba(samples)\n",
    "    prob_mat[test] = y_proba\n",
    "\n",
    "# the metrics are computed for each gaussian sample\n",
    "auc = np.zeros(shape=(num_samples,))\n",
    "accuracy = np.zeros(shape=(num_samples,))\n",
    "f1 = np.zeros(shape=(num_samples,))\n",
    "precision = np.zeros(shape=(num_samples,))\n",
    "sensitivity = np.zeros(shape=(num_samples,))\n",
    "specificity = np.zeros(shape=(num_samples,))\n",
    "mcc = np.zeros(shape=(num_samples,))\n",
    "\n",
    "for i in range(num_samples):\n",
    "    auc[i] = roc_auc_score(info.labels_list(label), prob_mat[:,i,:][:, 1])\n",
    "print(f'The mean AUC is: {auc.mean():.2f} +/- {auc.std():.2f}')\n"
   ]
  },
  {
   "cell_type": "markdown",
   "metadata": {},
   "source": [
    "Robust selection"
   ]
  },
  {
   "cell_type": "code",
   "execution_count": 425,
   "metadata": {},
   "outputs": [
    {
     "name": "stdout",
     "output_type": "stream",
     "text": [
      "The number of features selected is: 45\n",
      "The features selected are: ['ngtdm_Strength' 'firstorder_RobustMeanAbsoluteDeviation'\n",
      " 'glcm_JointEntropy' 'shape2D_Elongation' 'glcm_Imc2'\n",
      " 'glcm_MaximumProbability' 'glszm_SmallAreaHighGrayLevelEmphasis'\n",
      " 'glszm_GrayLevelNonUniformity' 'glrlm_RunEntropy'\n",
      " 'shape2D_PerimeterSurfaceRatio' 'shape2D_Sphericity' 'ngtdm_Contrast'\n",
      " 'glrlm_LongRunHighGrayLevelEmphasis'\n",
      " 'gldm_LargeDependenceLowGrayLevelEmphasis' 'firstorder_Entropy'\n",
      " 'firstorder_Kurtosis' 'ngtdm_Coarseness' 'firstorder_Skewness'\n",
      " 'firstorder_Median' 'firstorder_Maximum' 'firstorder_90Percentile'\n",
      " 'gldm_LargeDependenceHighGrayLevelEmphasis' 'firstorder_Variance'\n",
      " 'glcm_SumEntropy' 'glcm_JointAverage' 'shape2D_MinorAxisLength'\n",
      " 'shape2D_Perimeter' 'glcm_MCC' 'ngtdm_Complexity'\n",
      " 'gldm_LowGrayLevelEmphasis' 'firstorder_10Percentile' 'glcm_Imc1'\n",
      " 'glcm_Idmn' 'glszm_GrayLevelVariance' 'gldm_DependenceEntropy'\n",
      " 'gldm_SmallDependenceLowGrayLevelEmphasis' 'glcm_ClusterProminence'\n",
      " 'glrlm_LongRunLowGrayLevelEmphasis' 'firstorder_Range'\n",
      " 'shape2D_MaximumDiameter' 'glcm_ClusterTendency'\n",
      " 'gldm_SmallDependenceHighGrayLevelEmphasis' 'firstorder_Minimum'\n",
      " 'gldm_DependenceNonUniformity' 'glcm_Correlation']\n",
      "The accuracy is: 1.0\n",
      "The last size of the features is: (33, 45)\n"
     ]
    }
   ],
   "source": [
    "# read csv\n",
    "features = pd.read_csv(repo_path / 'data/features/feat_vector_robust.csv', index_col=0)\n",
    "x = np.asanyarray(features)\n",
    "\n",
    "# define lasso\n",
    "pipe_lasso = Pipeline([\n",
    "    ('scaler', StandardScaler()),\n",
    "    ('lasso', LogisticRegression(penalty='l1', solver='liblinear', class_weight=None, C=10000000, max_iter=1000))\n",
    "    ])\n",
    "# apply in ALL dataset\n",
    "pipe_lasso.fit(x, y)\n",
    "coef = pipe_lasso.named_steps['lasso'].coef_\n",
    "# get the features that are not zero\n",
    "features_selected = features.columns[coef[0] != 0]\n",
    "print(f'The number of features selected is: {len(features_selected)}')\n",
    "print(f'The features selected are: {features_selected.values}')\n",
    "\n",
    "# predict\n",
    "y_pred = pipe_lasso.predict_proba(x)\n",
    "# get acc\n",
    "acc = accuracy_score(y, y_pred.argmax(axis=1))\n",
    "print(f'The accuracy is: {acc}')\n",
    "\n",
    "\n",
    "x = np.asarray(features[features_selected])\n",
    "# the lasso selected features size are:\n",
    "print(f'The last size of the features is: {x.shape}')\n"
   ]
  },
  {
   "cell_type": "code",
   "execution_count": 426,
   "metadata": {},
   "outputs": [
    {
     "name": "stderr",
     "output_type": "stream",
     "text": [
      "Folds: 100%|██████████| 33/33 [00:15<00:00,  2.19it/s]"
     ]
    },
    {
     "name": "stdout",
     "output_type": "stream",
     "text": [
      "Best pipeline example is Pipeline(steps=[('scaler', StandardScaler()),\n",
      "                ('classifier',\n",
      "                 SVC(C=100, class_weight='balanced', gamma=0.0001,\n",
      "                     probability=True))])\n"
     ]
    },
    {
     "name": "stderr",
     "output_type": "stream",
     "text": [
      "\n"
     ]
    }
   ],
   "source": [
    "grid = classifier_and_grid('SVM',grid='normal',verbose=0)\n",
    "\n",
    "# use kfold\n",
    "kfold = KFold(n_splits=n)\n",
    "\n",
    "prob_matrix = np.zeros(shape=(n, 2))\n",
    "# go through each fold\n",
    "counter = tqdm(total=n, desc='Folds')\n",
    "best_pipes = []\n",
    "for train, test in kfold.split(x, y):\n",
    "    # fit\n",
    "    grid.fit(x[train], y[train])\n",
    "    # predict\n",
    "    prob_matrix[test] = grid.predict_proba(x[test])\n",
    "    # save best pipe\n",
    "    best_pipes.append(grid.best_estimator_)\n",
    "    # update progress bar\n",
    "    counter.update(1)\n",
    "# close progress bar\n",
    "counter.close()\n",
    "\n",
    "print(f'Best pipeline example is {best_pipes[0]}')"
   ]
  },
  {
   "cell_type": "code",
   "execution_count": 431,
   "metadata": {},
   "outputs": [
    {
     "name": "stdout",
     "output_type": "stream",
     "text": [
      "The optimal threshold is: 0.3542\n",
      "Accuracy: 0.7575757575757576\n",
      "F1 score: 0.8\n",
      "Precision: 0.8421052631578947\n",
      "Sensitivity: 0.7619047619047619\n",
      "Specificity: 0.75\n",
      "MCC: 0.49825150775877064\n"
     ]
    },
    {
     "data": {
      "text/plain": [
       "[<matplotlib.lines.Line2D at 0x7f3da9a81720>]"
      ]
     },
     "execution_count": 431,
     "metadata": {},
     "output_type": "execute_result"
    },
    {
     "data": {
      "image/png": "[encoded data removed]",
      "text/plain": [
       "<Figure size 640x480 with 1 Axes>"
      ]
     },
     "metadata": {},
     "output_type": "display_data"
    },
    {
     "data": {
      "image/png": "[encoded data removed]",
      "text/plain": [
       "<Figure size 700x500 with 1 Axes>"
      ]
     },
     "metadata": {},
     "output_type": "display_data"
    }
   ],
   "source": [
    "# show results\n",
    "prob_values = prob_matrix[:, 0]\n",
    "# get roc curve\n",
    "fpr, tpr, thresholds = roc_curve(y, prob_values)\n",
    "# compute auc\n",
    "auc = roc_auc_score(y, prob_values)\n",
    "# plot roc curve\n",
    "plt.plot(fpr, tpr, label=f'auc = {auc:.2f}')\n",
    "plt.xlabel('False Positive Rate')\n",
    "plt.ylabel('True Positive Rate')\n",
    "plt.legend()\n",
    "# get optimal threshold\n",
    "op_threshold = best_threshold(fpr, tpr, thresholds)\n",
    "print(f'The optimal threshold is: {op_threshold}')\n",
    "# define threshold\n",
    "threshold = op_threshold\n",
    "# compute metrics\n",
    "# accuracy\n",
    "accuracy = accuracy_score(info.labels_list(label), prob_values > threshold)\n",
    "print(f'Accuracy: {accuracy}')\n",
    "# F1 score\n",
    "f1 = f1_score(info.labels_list(label), prob_values > threshold)\n",
    "print(f'F1 score: {f1}')\n",
    "# precision\n",
    "precision = precision_score(info.labels_list(label), prob_values > threshold)\n",
    "print(f'Precision: {precision}')\n",
    "# sensitivity (recall, TPR)\n",
    "sensitivity = recall_score(info.labels_list(label), prob_values > threshold)\n",
    "print(f'Sensitivity: {sensitivity}')\n",
    "# specificity (TNR)\n",
    "specificity = recall_score(info.labels_list(label), prob_values > threshold, pos_label=0)\n",
    "print(f'Specificity: {specificity}')\n",
    "# MCC\n",
    "mcc = matthews_corrcoef(info.labels_list(label), prob_values > threshold)\n",
    "print(f'MCC: {mcc}')\n",
    "\n",
    "# plot prediciton values, with their corresponding labels in color\n",
    "plt.figure(figsize=(7,5))\n",
    "plt.scatter(range(len(info.labels_list(label))), prob_values,c=info.labels_list(label))\n",
    "# plot threshold line\n",
    "plt.plot([0, len(info.labels_list(label))], [threshold, threshold], 'k--')"
   ]
  },
  {
   "cell_type": "code",
   "execution_count": 434,
   "metadata": {},
   "outputs": [
    {
     "name": "stdout",
     "output_type": "stream",
     "text": [
      "The mean AUC is: 0.75 +/- 0.07\n"
     ]
    }
   ],
   "source": [
    "# read budget\n",
    "active_budget = pd.read_csv(repo_path / 'data' / 'budget' / 'budget_computations.csv', index_col=0)\n",
    "active_budget = active_budget.T[features_selected].abs()\n",
    "\n",
    "# HP\n",
    "num_samples = 1000\n",
    "# probability matrix\n",
    "prob_mat = np.zeros(shape=(x.shape[0], num_samples, 2))\n",
    "\n",
    "for i, (train, test) in enumerate(kfold.split(x, y)):\n",
    "    # get test data\n",
    "    x_test = features[features_selected].iloc[test]\n",
    "    # generate 1000 random samples from a normal distribution using the x_test values as mean and the budget as std\n",
    "    samples = np.random.normal(x_test, active_budget, size=(num_samples, x_test.shape[1]))\n",
    "    # samples = pd.DataFrame(samples)\n",
    "    # samples.columns = x_test.columns # same column names for the standard scaler\n",
    "    y_proba = best_pipes[i].predict_proba(samples)\n",
    "    prob_mat[test] = y_proba\n",
    "\n",
    "# the metrics are computed for each gaussian sample\n",
    "auc = np.zeros(shape=(num_samples,))\n",
    "accuracy = np.zeros(shape=(num_samples,))\n",
    "f1 = np.zeros(shape=(num_samples,))\n",
    "precision = np.zeros(shape=(num_samples,))\n",
    "sensitivity = np.zeros(shape=(num_samples,))\n",
    "specificity = np.zeros(shape=(num_samples,))\n",
    "mcc = np.zeros(shape=(num_samples,))\n",
    "\n",
    "for i in range(num_samples):\n",
    "    auc[i] = roc_auc_score(info.labels_list(label), prob_mat[:,i,:][:, 0])\n",
    "print(f'The mean AUC is: {auc.mean():.2f} +/- {auc.std():.2f}')\n"
   ]
  }
 ],
 "metadata": {
  "kernelspec": {
   "display_name": "avfu",
   "language": "python",
   "name": "python3"
  },
  "language_info": {
   "codemirror_mode": {
    "name": "ipython",
    "version": 3
   },
   "file_extension": ".py",
   "mimetype": "text/x-python",
   "name": "python",
   "nbconvert_exporter": "python",
   "pygments_lexer": "ipython3",
   "version": "3.1.0"
  },
  "orig_nbformat": 4
 },
 "nbformat": 4,
 "nbformat_minor": 2
}
