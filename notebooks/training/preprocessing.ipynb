{
 "cells": [
  {
   "cell_type": "code",
   "execution_count": 2,
   "metadata": {},
   "outputs": [],
   "source": [
    "from pathlib import Path\n",
    "import os, sys\n",
    "repo_path= Path.cwd().resolve()\n",
    "while '.gitignore' not in os.listdir(repo_path): # while not in the root of the repo\n",
    "    repo_path = repo_path.parent #go up one level\n",
    "sys.path.insert(0,str(repo_path)) if str(repo_path) not in sys.path else None\n",
    "\n",
    "import pandas as pd\n",
    "import numpy as np\n",
    "#Import paths and patients classes\n",
    "from notebooks.info import path_label, patient\n",
    "import notebooks.utils as utils"
   ]
  },
  {
   "cell_type": "code",
   "execution_count": 3,
   "metadata": {},
   "outputs": [],
   "source": [
    "def get_ex_included(budget_path: Path):\n",
    "    \"\"\"get excluded features name using the budget CV value\n",
    "\n",
    "    Args:\n",
    "        budget_path (Path): path to the csv file with the budget\n",
    "\n",
    "    Returns:\n",
    "        sequences: excluded and included features\n",
    "    \"\"\"\n",
    "    # get the name of the features from the budget\n",
    "    budget = pd.read_csv(budget_path, index_col=0)\n",
    "    # change name of column\n",
    "    budget.columns = ['budget']\n",
    "    # get all features with values greater than 1\n",
    "    excluded = budget[budget[ 'budget' ] > 1].index\n",
    "    # get all other names\n",
    "    included = budget[budget[ 'budget' ] <= 1].index\n",
    "    \n",
    "    return excluded, included\n",
    "\n",
    "def get_features(excluded:list):\n",
    "    \"\"\"\n",
    "    return df with features given the segmentation type and excluded features\n",
    "\n",
    "    Args:\n",
    "        stype (str): general or focal\n",
    "        excluded (seq): sequence of excluded features\n",
    "\n",
    "    Returns:\n",
    "        pd.DataFrame: df with features\n",
    "    \"\"\"\n",
    "    # get features\n",
    "    features = pd.read_csv(repo_path / 'data' / 'features' / f'feat_vector.csv', index_col=0)\n",
    "    # remove features in excluded list\n",
    "    features = features.drop(excluded, axis=1)\n",
    "\n",
    "    return features"
   ]
  },
  {
   "attachments": {},
   "cell_type": "markdown",
   "metadata": {},
   "source": [
    "# Features preprocessing"
   ]
  },
  {
   "cell_type": "code",
   "execution_count": 4,
   "metadata": {},
   "outputs": [],
   "source": [
    "# load info class\n",
    "info = path_label()"
   ]
  },
  {
   "attachments": {},
   "cell_type": "markdown",
   "metadata": {},
   "source": [
    "## CV greater than 100 (Uncompatible budget)"
   ]
  },
  {
   "cell_type": "markdown",
   "metadata": {},
   "source": [
    "For the sake of interpretability, the features with CV greater than 100 are removed from the dataset."
   ]
  },
  {
   "cell_type": "code",
   "execution_count": 5,
   "metadata": {},
   "outputs": [
    {
     "name": "stdout",
     "output_type": "stream",
     "text": [
      "The features removed are ['glcm_ClusterShade'] beacuse their budget value is greater than 1\n"
     ]
    }
   ],
   "source": [
    "# load features\n",
    "budget_path = repo_path/ 'data' / 'budget' / 'budget_ROI_and_rad.csv'\n",
    "excluded, _ = get_ex_included(budget_path) # get excluded features due to their budget value\n",
    "features = get_features(excluded)\n",
    "print(f'The features removed are {excluded.values} beacuse their budget value is greater than 1')"
   ]
  },
  {
   "attachments": {},
   "cell_type": "markdown",
   "metadata": {},
   "source": [
    "## PCC\n",
    "\n",
    "Pearson Correlation Coefficient (PCC) based filtering is performed on the features to:\n",
    "- Remove the redundant features\n",
    "- Select those with more stable variability according to the budget values.\n",
    "    - Stability can be seen as a feature-specific variance."
   ]
  },
  {
   "cell_type": "code",
   "execution_count": 27,
   "metadata": {},
   "outputs": [],
   "source": [
    "# Criteria to group features\n",
    "pcc_value = 0.99\n",
    "\n",
    "# Compute the pearson correlation coefficient\n",
    "pcc = features.corr(method='pearson')\n",
    "# compute absolute value, because we are interested in the magnitude of the correlation, not the sign\n",
    "pcc = pcc.abs()\n",
    "# if the value is greater than 0.9 but not exaclty 1, group them\n",
    "pcc = pcc[(pcc > pcc_value) & (pcc < 1)]\n",
    "pcc.to_csv('pcc_high.csv')\n",
    "# go through each column and get the name of the features that are correlated\n",
    "pcc_names = pcc.apply(lambda x: x.dropna().index.tolist(), axis=1)\n",
    "pcc_names.to_csv('pcc_names.csv')"
   ]
  },
  {
   "cell_type": "code",
   "execution_count": 28,
   "metadata": {},
   "outputs": [
    {
     "name": "stdout",
     "output_type": "stream",
     "text": [
      "The number of clusters is 54\n"
     ]
    }
   ],
   "source": [
    "# list for the clusters (as lists)\n",
    "clusters = []\n",
    "\n",
    "# first example in column\n",
    "for column in pcc_names.index:\n",
    "    # check if list is empty\n",
    "    if not pcc_names[column]: # if empty\n",
    "        clusters.append([column]) # lone feature\n",
    "    else: # if not empty\n",
    "        # make a list including the first feature and all the features that are correlated to it\n",
    "        connected_features = [column] + pcc_names[column]\n",
    "        # check if any of the features in connected features are already in a cluster\n",
    "        for cluster in clusters:\n",
    "            if any(feature in cluster for feature in connected_features):\n",
    "                # if so, add all the features to that cluster\n",
    "                cluster.extend(connected_features)\n",
    "                break\n",
    "        else: # if not, create a new cluster\n",
    "            clusters.append(connected_features)\n",
    "# remove duplicates\n",
    "for i, cluster in enumerate(clusters):\n",
    "    cluster = list(set(cluster))\n",
    "    clusters[i] = cluster\n",
    "\n",
    "print(f'The number of clusters is {len(clusters)}')"
   ]
  },
  {
   "cell_type": "code",
   "execution_count": 29,
   "metadata": {},
   "outputs": [
    {
     "name": "stdout",
     "output_type": "stream",
     "text": [
      "The 54 cluster leaders are: ['shape2D_Elongation', 'shape2D_MajorAxisLength', 'shape2D_MaximumDiameter', 'glrlm_RunLengthNonUniformity', 'shape2D_MinorAxisLength', 'shape2D_Perimeter', 'shape2D_PerimeterSurfaceRatio', 'shape2D_Sphericity', 'firstorder_10Percentile', 'firstorder_90Percentile', 'firstorder_Entropy', 'firstorder_RobustMeanAbsoluteDeviation', 'firstorder_Kurtosis', 'firstorder_Maximum', 'firstorder_Median', 'firstorder_Minimum', 'firstorder_Range', 'firstorder_Skewness', 'firstorder_Variance', 'glcm_JointAverage', 'glcm_ClusterProminence', 'glcm_ClusterTendency', 'glcm_Idmn', 'glcm_Correlation', 'glcm_Imc1', 'glcm_Imc2', 'glcm_MaximumProbability', 'glcm_JointEntropy', 'glcm_MCC', 'glcm_SumEntropy', 'glszm_GrayLevelVariance', 'glszm_GrayLevelNonUniformity', 'glszm_LargeAreaEmphasis', 'glszm_LargeAreaHighGrayLevelEmphasis', 'glszm_LargeAreaLowGrayLevelEmphasis', 'gldm_LowGrayLevelEmphasis', 'gldm_DependenceNonUniformity', 'glszm_SmallAreaHighGrayLevelEmphasis', 'glszm_SmallAreaLowGrayLevelEmphasis', 'glszm_ZoneEntropy', 'glrlm_LongRunHighGrayLevelEmphasis', 'glrlm_LongRunLowGrayLevelEmphasis', 'glrlm_RunEntropy', 'glrlm_ShortRunHighGrayLevelEmphasis', 'ngtdm_Busyness', 'ngtdm_Coarseness', 'ngtdm_Complexity', 'ngtdm_Contrast', 'ngtdm_Strength', 'gldm_DependenceEntropy', 'gldm_LargeDependenceHighGrayLevelEmphasis', 'gldm_LargeDependenceLowGrayLevelEmphasis', 'gldm_SmallDependenceHighGrayLevelEmphasis', 'gldm_SmallDependenceLowGrayLevelEmphasis']\n"
     ]
    }
   ],
   "source": [
    "# select a leader feature for each cluster depending on the budget value\n",
    "budget = pd.read_csv(budget_path, index_col=0).T\n",
    "cluster_leaders = []\n",
    "# example\n",
    "for cluster in clusters:\n",
    "    # get the feature with the lowest budget value\n",
    "    leader = budget[cluster].min().idxmin()\n",
    "    # add it to the list\n",
    "    cluster_leaders.append(leader)\n",
    "\n",
    "print(f'The {len(cluster_leaders)} cluster leaders are: {cluster_leaders}')"
   ]
  },
  {
   "cell_type": "code",
   "execution_count": 30,
   "metadata": {},
   "outputs": [
    {
     "name": "stdout",
     "output_type": "stream",
     "text": [
      "The 54 cluster leaders are: ['gldm_SmallDependenceLowGrayLevelEmphasis', 'firstorder_Variance', 'glrlm_LongRunHighGrayLevelEmphasis', 'firstorder_Skewness', 'shape2D_Elongation', 'firstorder_Range', 'ngtdm_Strength', 'firstorder_90Percentile', 'firstorder_10Percentile', 'firstorder_Maximum', 'glcm_ClusterProminence', 'ngtdm_Coarseness', 'glcm_JointEntropy', 'glcm_Correlation', 'glrlm_ShortRunHighGrayLevelEmphasis', 'glszm_LargeAreaLowGrayLevelEmphasis', 'shape2D_MaximumDiameter', 'glszm_GrayLevelVariance', 'ngtdm_Complexity', 'shape2D_Perimeter', 'gldm_LargeDependenceLowGrayLevelEmphasis', 'glcm_Imc2', 'glszm_SmallAreaHighGrayLevelEmphasis', 'glszm_LargeAreaHighGrayLevelEmphasis', 'firstorder_Entropy', 'glcm_JointAverage', 'glcm_Imc1', 'glszm_LargeAreaEmphasis', 'glrlm_LongRunLowGrayLevelEmphasis', 'glszm_SmallAreaLowGrayLevelEmphasis', 'glcm_MaximumProbability', 'ngtdm_Busyness', 'gldm_SmallDependenceHighGrayLevelEmphasis', 'firstorder_Median', 'glcm_ClusterTendency', 'glcm_MCC', 'gldm_LowGrayLevelEmphasis', 'gldm_DependenceEntropy', 'glszm_ZoneEntropy', 'glrlm_RunEntropy', 'shape2D_Sphericity', 'firstorder_RobustMeanAbsoluteDeviation', 'firstorder_Minimum', 'glcm_Idmn', 'glrlm_RunLengthNonUniformity', 'glcm_SumEntropy', 'shape2D_MajorAxisLength', 'firstorder_Kurtosis', 'shape2D_MinorAxisLength', 'glszm_GrayLevelNonUniformity', 'ngtdm_Contrast', 'gldm_LargeDependenceHighGrayLevelEmphasis', 'gldm_DependenceNonUniformity', 'shape2D_PerimeterSurfaceRatio']\n"
     ]
    }
   ],
   "source": [
    "# check if any cluster leader is repeated and remove it\n",
    "cluster_leaders = list(set(cluster_leaders))\n",
    "print(f'The {len(cluster_leaders)} cluster leaders are: {cluster_leaders}')"
   ]
  },
  {
   "cell_type": "markdown",
   "metadata": {},
   "source": [
    "Make new feature vectir without the highly correlated features."
   ]
  },
  {
   "cell_type": "code",
   "execution_count": 26,
   "metadata": {},
   "outputs": [],
   "source": [
    "# use only the cluster leaders\n",
    "new_features = features[cluster_leaders]\n",
    "# save\n",
    "new_features.to_csv(repo_path / 'data/features' / 'feat_vector_robust.csv')"
   ]
  }
 ],
 "metadata": {
  "kernelspec": {
   "display_name": "avfu",
   "language": "python",
   "name": "python3"
  },
  "language_info": {
   "codemirror_mode": {
    "name": "ipython",
    "version": 3
   },
   "file_extension": ".py",
   "mimetype": "text/x-python",
   "name": "python",
   "nbconvert_exporter": "python",
   "pygments_lexer": "ipython3",
   "version": "3.10.9"
  },
  "orig_nbformat": 4
 },
 "nbformat": 4,
 "nbformat_minor": 2
}
