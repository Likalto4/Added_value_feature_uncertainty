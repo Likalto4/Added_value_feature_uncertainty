{
 "cells": [
  {
   "cell_type": "code",
   "execution_count": 18,
   "metadata": {},
   "outputs": [],
   "source": [
    "from pathlib import Path\n",
    "import os, sys\n",
    "repo_path= Path.cwd().resolve()\n",
    "while '.gitignore' not in os.listdir(repo_path): # while not in the root of the repo\n",
    "    repo_path = repo_path.parent #go up one level\n",
    "sys.path.insert(0,str(repo_path)) if str(repo_path) not in sys.path else None\n",
    "\n",
    "import pandas as pd\n",
    "import numpy as np\n",
    "#Import paths and patients classes\n",
    "from notebooks.info import path_label, patient\n",
    "import notebooks.utils as utils"
   ]
  },
  {
   "cell_type": "code",
   "execution_count": 4,
   "metadata": {},
   "outputs": [],
   "source": [
    "def get_ex_included(budget_path: Path):\n",
    "    \"\"\"get excluded features name using the budget CV value\n",
    "\n",
    "    Args:\n",
    "        budget_path (Path): path to the csv file with the budget\n",
    "\n",
    "    Returns:\n",
    "        sequences: excluded and included features\n",
    "    \"\"\"\n",
    "    # get the name of the features from the budget\n",
    "    budget = pd.read_excel(budget_path, index_col=0)\n",
    "    # change name of column\n",
    "    budget.columns = ['budget']\n",
    "    # get all features with values greater than 1\n",
    "    excluded = budget[budget[ 'budget' ] > 1].index\n",
    "    # get all other names\n",
    "    included = budget[budget[ 'budget' ] <= 1].index\n",
    "    \n",
    "    return excluded, included\n",
    "\n",
    "def get_features(stype:str, excluded:list):\n",
    "    \"\"\"\n",
    "    return df with features given the segmentation type and excluded features\n",
    "\n",
    "    Args:\n",
    "        stype (str): general or focal\n",
    "        excluded (seq): sequence of excluded features\n",
    "\n",
    "    Returns:\n",
    "        pd.DataFrame: df with features\n",
    "    \"\"\"\n",
    "    # get features\n",
    "    features = pd.read_csv(repo_path / 'data' / 'features' / f'features_all_time{stype}.csv', index_col=0)\n",
    "    features = features.groupby(by='pat_num', axis=0).mean()\n",
    "    # remove features in excluded list\n",
    "    features = features.drop(excluded, axis=1)\n",
    "\n",
    "    return features"
   ]
  },
  {
   "attachments": {},
   "cell_type": "markdown",
   "metadata": {},
   "source": [
    "# Image preprocessing"
   ]
  },
  {
   "attachments": {},
   "cell_type": "markdown",
   "metadata": {},
   "source": [
    "## CV greater than 100 (Uncompatible features)"
   ]
  },
  {
   "cell_type": "code",
   "execution_count": 9,
   "metadata": {},
   "outputs": [],
   "source": [
    "# load all features\n",
    "# HP\n",
    "stype='G' # segmentation type\n",
    "label = 'RP' # receptor type (RP, RE, ki67)\n",
    "budget_path = repo_path/ 'data' / 'budget' / 'budget.xlsx'\n",
    "\n",
    "excluded, _ = get_ex_included(budget_path) # get excluded features due to their budget value\n",
    "features = get_features(stype, excluded)\n",
    "# load info class\n",
    "info = path_label()"
   ]
  },
  {
   "attachments": {},
   "cell_type": "markdown",
   "metadata": {},
   "source": [
    "## PCC\n",
    "\n",
    "Pearson Correlation Coefficient (PCC) based filtering is performed on the features to:\n",
    "- Remove the redundant features\n",
    "- Select those with more stable variability according to the budget values."
   ]
  },
  {
   "attachments": {},
   "cell_type": "markdown",
   "metadata": {},
   "source": [
    "First all features with CV greater that 100 are removed"
   ]
  },
  {
   "cell_type": "code",
   "execution_count": 44,
   "metadata": {},
   "outputs": [],
   "source": [
    "# HP\n",
    "pcc_value = 0.95 # PCC value to group features\n",
    "\n",
    "# Compute the pearson correlation coefficient\n",
    "pcc = features.corr(method='pearson')\n",
    "# compute absolute value\n",
    "pcc = pcc.abs()\n",
    "# if the value is greater than 0.9 but not exaclty 1, group them\n",
    "pcc = pcc[(pcc > pcc_value) & (pcc < 1)]\n",
    "pcc.to_csv('pcc_high.csv')\n",
    "# go through each column and get the name of the features that are correlated\n",
    "pcc_names = pcc.apply(lambda x: x.dropna().index.tolist(), axis=1)\n",
    "pcc_names.to_csv('pcc_names.csv')"
   ]
  },
  {
   "cell_type": "code",
   "execution_count": 47,
   "metadata": {},
   "outputs": [
    {
     "name": "stdout",
     "output_type": "stream",
     "text": [
      "There are 16 groups of features with PCC greater than 0.95\n"
     ]
    }
   ],
   "source": [
    "# go thorugh all columns and make groups of features if they are correlated at least with another feature\n",
    "pcc_groups = []\n",
    "for i in range(len(pcc_names)):\n",
    "    # get the name of the feature\n",
    "    feat_name = pcc_names.index[i]\n",
    "    # get correlated features\n",
    "    correlated = pcc_names[i]\n",
    "    if len(correlated)==0: # check if empty\n",
    "        continue # skip\n",
    "    # check if the feature is already in a group\n",
    "    if feat_name in [item for sublist in pcc_groups for item in sublist]:\n",
    "        continue\n",
    "    # check if the correlated features are already in a group\n",
    "    for group in pcc_groups:\n",
    "        if any(elem in group for elem in correlated): \n",
    "            # add to the group\n",
    "            group.extend(correlated)\n",
    "            break\n",
    "    else:\n",
    "        # create a new group\n",
    "        pcc_groups.append(correlated)\n",
    "# remove duplicates\n",
    "pcc_groups = [list(set(x)) for x in pcc_groups]\n",
    "# remove empty lists\n",
    "pcc_groups = [x for x in pcc_groups if x != []]\n",
    "\n",
    "print(f'There are {len(pcc_groups)} groups of features with PCC greater than {pcc_value}')"
   ]
  }
 ],
 "metadata": {
  "kernelspec": {
   "display_name": "avfu",
   "language": "python",
   "name": "python3"
  },
  "language_info": {
   "codemirror_mode": {
    "name": "ipython",
    "version": 3
   },
   "file_extension": ".py",
   "mimetype": "text/x-python",
   "name": "python",
   "nbconvert_exporter": "python",
   "pygments_lexer": "ipython3",
   "version": "3.10.9"
  },
  "orig_nbformat": 4
 },
 "nbformat": 4,
 "nbformat_minor": 2
}
