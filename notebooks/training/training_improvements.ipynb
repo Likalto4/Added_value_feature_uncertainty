{
 "cells": [
  {
   "cell_type": "code",
   "execution_count": 1,
   "metadata": {},
   "outputs": [],
   "source": [
    "# add repo path to the system path\n",
    "from pathlib import Path\n",
    "import os, sys\n",
    "repo_path= Path.cwd().resolve()\n",
    "while '.gitignore' not in os.listdir(repo_path): # while not in the root of the repo\n",
    "    repo_path = repo_path.parent #go up one level\n",
    "sys.path.insert(0,str(repo_path)) if str(repo_path) not in sys.path else None\n",
    "\n",
    "# #sklearnex\n",
    "# from sklearnex import patch_sklearn\n",
    "# patch_sklearn()\n",
    "import pandas as pd\n",
    "import matplotlib.pyplot as plt\n",
    "import numpy as np\n",
    "import SimpleITK as sitk\n",
    "from sklearn.pipeline import Pipeline\n",
    "from sklearn.model_selection import GridSearchCV\n",
    "# StratifiedKFold\n",
    "from sklearn.model_selection import KFold, StratifiedKFold\n",
    "from sklearn.datasets import make_classification\n",
    "from sklearn.model_selection import cross_val_predict\n",
    "from sklearn.linear_model import LogisticRegression, Lasso\n",
    "from sklearn.ensemble import RandomForestClassifier\n",
    "from sklearn.model_selection import LeaveOneOut\n",
    "from sklearn.metrics import (accuracy_score,\n",
    "                            recall_score,\n",
    "                            precision_score,\n",
    "                            f1_score,\n",
    "                            roc_auc_score,\n",
    "                            roc_curve,\n",
    "                            matthews_corrcoef,\n",
    ")\n",
    "import cv2 as cv\n",
    "from radiomics import featureextractor\n",
    "from tqdm import tqdm\n",
    "from IPython.display import clear_output\n",
    "from sklearn.preprocessing import StandardScaler\n",
    "\n",
    "#Import paths and patients classes\n",
    "from notebooks.info import path_label, patient\n",
    "import notebooks.utils as utils"
   ]
  },
  {
   "cell_type": "code",
   "execution_count": 2,
   "metadata": {},
   "outputs": [],
   "source": [
    "def get_ex_included(budget_path: Path):\n",
    "    \"\"\"get excluded features name using the budget CV value\n",
    "\n",
    "    Args:\n",
    "        budget_path (Path): path to the csv file with the budget\n",
    "\n",
    "    Returns:\n",
    "        sequences: excluded and included features\n",
    "    \"\"\"\n",
    "    # get the name of the features from the budget\n",
    "    budget = pd.read_excel(budget_path, index_col=0)\n",
    "    # change name of column\n",
    "    budget.columns = ['budget']\n",
    "    # get all features with values greater than 1\n",
    "    excluded = budget[budget[ 'budget' ] > 1].index\n",
    "    # get all other names\n",
    "    included = budget[budget[ 'budget' ] <= 1].index\n",
    "    \n",
    "    return excluded, included\n",
    "\n",
    "def get_features(stype:str, excluded:list):\n",
    "    \"\"\"\n",
    "    return df with features given the segmentation type and excluded features\n",
    "\n",
    "    Args:\n",
    "        stype (str): general or focal\n",
    "        excluded (seq): sequence of excluded features\n",
    "\n",
    "    Returns:\n",
    "        pd.DataFrame: df with features\n",
    "    \"\"\"\n",
    "    # get features\n",
    "    features = pd.read_csv(repo_path / 'data' / 'features' / f'features_all_time{stype}.csv', index_col=0)\n",
    "    features = features.groupby(by='pat_num', axis=0).mean()\n",
    "    # remove features in excluded list\n",
    "    features = features.drop(excluded, axis=1)\n",
    "\n",
    "    return features\n",
    "\n",
    "def best_threshold(fpr, tpr, thresholds):\n",
    "    \"\"\"given the roc curve information, it returns the best threshold accoridng to the gmean\n",
    "\n",
    "    Args:\n",
    "        fpr (np.array): false positiva rate values\n",
    "        tpr (np.array): true positive rate values\n",
    "        thresholds (np.array): thresholds found for the ROC curve\n",
    "\n",
    "    Returns:\n",
    "        float: optimal threshold\n",
    "    \"\"\"\n",
    "    # Calculate the G-mean\n",
    "    gmean = np.sqrt(tpr * (1 - fpr))\n",
    "    # Find the optimal threshold\n",
    "    index = np.argmax(gmean)\n",
    "    thresholdOpt = round(thresholds[index], ndigits = 4)\n",
    "    # gmeanOpt = round(gmean[index], ndigits = 4)\n",
    "    # fprOpt = round(fpr[index], ndigits = 4)\n",
    "    # tprOpt = round(tpr[index], ndigits = 4)\n",
    "\n",
    "    return thresholdOpt"
   ]
  },
  {
   "attachments": {},
   "cell_type": "markdown",
   "metadata": {},
   "source": [
    "# Initials"
   ]
  },
  {
   "cell_type": "markdown",
   "metadata": {},
   "source": [
    "First, depending on the experiment some features are removed."
   ]
  },
  {
   "cell_type": "code",
   "execution_count": 3,
   "metadata": {},
   "outputs": [],
   "source": [
    "# Define type of experiment\n",
    "stype='G' # segmentation type\n",
    "label = 'RP' # receptor type (RP, RE, ki67)\n",
    "\n",
    "# use budget to select features\n",
    "budget_path = repo_path/ 'data' / 'budget' / 'budget.xlsx'\n",
    "excluded, _ = get_ex_included(budget_path) # get excluded features due to their budget value\n",
    "features = get_features(stype, excluded)"
   ]
  },
  {
   "cell_type": "code",
   "execution_count": 4,
   "metadata": {},
   "outputs": [],
   "source": [
    "# load info class\n",
    "info = path_label()"
   ]
  },
  {
   "attachments": {},
   "cell_type": "markdown",
   "metadata": {},
   "source": [
    "# Feature selection problem for small datasets\n",
    "\n",
    "To avoid feature selection bias, there are two main approaches:\n",
    "1. CV and reproduce the whole pipeline for each fold (from feature selection to model training)\n",
    "- Problems: \n",
    "    - Time consuming (not a problem for us)\n",
    "    - Not possible to use the same features for all folds\n",
    "2. Perform feature selection in <u> the whole dataset</u>, accepting the biases that this method brings and try to assess the bias thorugh a CV approach. <br>\n",
    "In our case, because we are having the same bias in all the experiments, we can assume that the changes on the performance of the model are due to the training pipeline and not the feature selection (same for all).\n",
    "- Problems:\n",
    "    - Accepting bias\n",
    "- Positive notes:\n",
    "    -In the LOO-CV approach, it is important to consider the danger of overfitting since separate model are beaing trained for each patient. Therefore, it is advisable to keep the feature selection process consistent across all iterations to ensure fair evaluation."
   ]
  },
  {
   "attachments": {},
   "cell_type": "markdown",
   "metadata": {},
   "source": [
    "# Approach 1: CV and reproduce the whole pipeline for each fold"
   ]
  },
  {
   "attachments": {},
   "cell_type": "markdown",
   "metadata": {},
   "source": [
    "## Traditional pipeline"
   ]
  },
  {
   "cell_type": "code",
   "execution_count": 8,
   "metadata": {},
   "outputs": [
    {
     "name": "stdout",
     "output_type": "stream",
     "text": [
      "The number of patients (n) is: 33\n",
      "The number of features (p) is: 100\n",
      "The number of features selected is: 8\n",
      "The number of features selected is: 7\n",
      "The number of features selected is: 11\n",
      "The number of features selected is: 6\n",
      "The number of features selected is: 7\n",
      "The number of features selected is: 9\n",
      "The number of features selected is: 6\n",
      "The number of features selected is: 5\n",
      "The number of features selected is: 8\n",
      "The number of features selected is: 6\n",
      "The number of features selected is: 7\n",
      "The number of features selected is: 7\n",
      "The number of features selected is: 7\n",
      "The number of features selected is: 9\n",
      "The number of features selected is: 7\n",
      "The number of features selected is: 8\n",
      "The number of features selected is: 7\n",
      "The number of features selected is: 6\n",
      "The number of features selected is: 8\n",
      "The number of features selected is: 8\n",
      "The number of features selected is: 9\n",
      "The number of features selected is: 9\n",
      "The number of features selected is: 6\n",
      "The number of features selected is: 8\n",
      "The number of features selected is: 7\n",
      "The number of features selected is: 7\n",
      "The number of features selected is: 6\n",
      "The number of features selected is: 8\n",
      "The number of features selected is: 7\n",
      "The number of features selected is: 6\n",
      "The number of features selected is: 7\n",
      "The number of features selected is: 7\n",
      "The number of features selected is: 6\n",
      "Accuracy: 0.696969696969697\n",
      "F1 score: 0.782608695652174\n",
      "Precision: 0.72\n",
      "Sensitivity: 0.8571428571428571\n",
      "Specificity: 0.4166666666666667\n",
      "MCC: 0.30735042819928804\n"
     ]
    },
    {
     "data": {
      "text/plain": [
       "[<matplotlib.lines.Line2D at 0x7fb082a0faf0>]"
      ]
     },
     "execution_count": 8,
     "metadata": {},
     "output_type": "execute_result"
    },
    {
     "data": {
      "image/png": "[encoded data removed]",
      "text/plain": [
       "<Figure size 640x480 with 1 Axes>"
      ]
     },
     "metadata": {},
     "output_type": "display_data"
    },
    {
     "data": {
      "image/png": "[encoded data removed]",
      "text/plain": [
       "<Figure size 700x500 with 1 Axes>"
      ]
     },
     "metadata": {},
     "output_type": "display_data"
    }
   ],
   "source": [
    "n = features.shape[0] # number of patients\n",
    "p = features.shape[1] # number of features\n",
    "# feature selection using lasso\n",
    "print(f'The number of patients (n) is: {n}\\nThe number of features (p) is: {p}')\n",
    "# create loo using kfold\n",
    "kfold = KFold(n_splits=n)\n",
    "# prepare data\n",
    "y = np.asarray(info.labels_list(label))\n",
    "x = np.asarray(features)\n",
    "# create pipeline with scaler and logistic regression\n",
    "pipe = Pipeline([('scaler', StandardScaler()), ('lasso', LogisticRegression(penalty='l1', solver='liblinear', class_weight='balanced', C=1, max_iter=1000))])\n",
    "prob_matrix = np.zeros(shape=(n, 2))\n",
    "# go through each fold\n",
    "for train, test in kfold.split(features, y):\n",
    "    # fit the lasso\n",
    "    pipe.fit(x[train], y[train])\n",
    "    # get the coefficients\n",
    "    coef = pipe.named_steps['lasso'].coef_\n",
    "    # get the features that are not zero\n",
    "    features_selected = features.columns[coef[0] != 0]\n",
    "    print(f'The number of features selected is: {len(features_selected)}')\n",
    "    # predict\n",
    "    prob_matrix[test] = pipe.predict_proba(x[test])\n",
    "\n",
    "\n",
    "# show results\n",
    "# get roc curve\n",
    "fpr, tpr, thresholds = roc_curve(y, prob_matrix[:, 1])\n",
    "# compute auc\n",
    "auc = roc_auc_score(y, prob_matrix[:, 1])\n",
    "# plot roc curve\n",
    "plt.plot(fpr, tpr, label=f'auc = {auc:.2f}')\n",
    "plt.xlabel('False Positive Rate')\n",
    "plt.ylabel('True Positive Rate')\n",
    "plt.legend()\n",
    "# get optimal threshold\n",
    "op_threshold = best_threshold(fpr, tpr, thresholds)\n",
    "\n",
    "# define threshold\n",
    "threshold = op_threshold\n",
    "# compute metrics\n",
    "# accuracy\n",
    "accuracy = accuracy_score(info.labels_list(label), prob_matrix[:, 1] > threshold)\n",
    "print(f'Accuracy: {accuracy}')\n",
    "# F1 score\n",
    "f1 = f1_score(info.labels_list(label), prob_matrix[:, 1] > threshold)\n",
    "print(f'F1 score: {f1}')\n",
    "# precision\n",
    "precision = precision_score(info.labels_list(label), prob_matrix[:, 1] > threshold)\n",
    "print(f'Precision: {precision}')\n",
    "# sensitivity (recall, TPR)\n",
    "sensitivity = recall_score(info.labels_list(label), prob_matrix[:, 1] > threshold)\n",
    "print(f'Sensitivity: {sensitivity}')\n",
    "# specificity (TNR)\n",
    "specificity = recall_score(info.labels_list(label), prob_matrix[:, 1] > threshold, pos_label=0)\n",
    "print(f'Specificity: {specificity}')\n",
    "# MCC\n",
    "mcc = matthews_corrcoef(info.labels_list(label), prob_matrix[:, 1] > threshold)\n",
    "print(f'MCC: {mcc}')\n",
    "\n",
    "# plot prediciton values, with their corresponding labels in color\n",
    "plt.figure(figsize=(7,5))\n",
    "plt.scatter(range(len(info.labels_list(label))), prob_matrix[:, 1],c=info.labels_list(label))\n",
    "# plot threshold line\n",
    "plt.plot([0, len(info.labels_list(label))], [threshold, threshold], 'k--')"
   ]
  },
  {
   "attachments": {},
   "cell_type": "markdown",
   "metadata": {},
   "source": [
    "## Testing with budget"
   ]
  },
  {
   "cell_type": "code",
   "execution_count": 7,
   "metadata": {},
   "outputs": [
    {
     "name": "stdout",
     "output_type": "stream",
     "text": [
      "The number of patients (n) is: 33\n",
      "The number of features (p) is: 100\n",
      "The number of features selected is: 8\n",
      "The number of features selected is: 7\n",
      "The number of features selected is: 10\n",
      "The number of features selected is: 6\n",
      "The number of features selected is: 7\n",
      "The number of features selected is: 9\n",
      "The number of features selected is: 6\n",
      "The number of features selected is: 5\n",
      "The number of features selected is: 8\n",
      "The number of features selected is: 6\n",
      "The number of features selected is: 7\n",
      "The number of features selected is: 7\n",
      "The number of features selected is: 7\n",
      "The number of features selected is: 9\n",
      "The number of features selected is: 7\n",
      "The number of features selected is: 8\n",
      "The number of features selected is: 7\n",
      "The number of features selected is: 6\n",
      "The number of features selected is: 8\n",
      "The number of features selected is: 8\n",
      "The number of features selected is: 8\n",
      "The number of features selected is: 9\n",
      "The number of features selected is: 6\n",
      "The number of features selected is: 8\n",
      "The number of features selected is: 7\n",
      "The number of features selected is: 7\n",
      "The number of features selected is: 6\n",
      "The number of features selected is: 8\n",
      "The number of features selected is: 7\n",
      "The number of features selected is: 6\n",
      "The number of features selected is: 7\n",
      "The number of features selected is: 7\n",
      "The number of features selected is: 6\n",
      "Accuracy: 0.696969696969697\n",
      "F1 score: 0.782608695652174\n",
      "Precision: 0.72\n",
      "Sensitivity: 0.8571428571428571\n",
      "Specificity: 0.4166666666666667\n",
      "MCC: 0.30735042819928804\n"
     ]
    },
    {
     "data": {
      "text/plain": [
       "[<matplotlib.lines.Line2D at 0x7fb082b40610>]"
      ]
     },
     "execution_count": 7,
     "metadata": {},
     "output_type": "execute_result"
    },
    {
     "data": {
      "image/png": "[encoded data removed]",
      "text/plain": [
       "<Figure size 640x480 with 1 Axes>"
      ]
     },
     "metadata": {},
     "output_type": "display_data"
    },
    {
     "data": {
      "image/png": "[encoded data removed]",
      "text/plain": [
       "<Figure size 700x500 with 1 Axes>"
      ]
     },
     "metadata": {},
     "output_type": "display_data"
    }
   ],
   "source": [
    "n = features.shape[0] # number of patients\n",
    "p = features.shape[1] # number of features\n",
    "# feature selection using lasso\n",
    "print(f'The number of patients (n) is: {n}\\nThe number of features (p) is: {p}')\n",
    "# create loo using kfold\n",
    "kfold = KFold(n_splits=n)\n",
    "# prepare data\n",
    "y = np.asarray(info.labels_list(label))\n",
    "x = np.asarray(features)\n",
    "# create pipeline with scaler and logistic regression\n",
    "pipe = Pipeline([('scaler', StandardScaler()), ('lasso', LogisticRegression(penalty='l1', solver='liblinear', class_weight='balanced', C=1, max_iter=1000))])\n",
    "prob_matrix = np.zeros(shape=(n, 2))\n",
    "# go through each fold\n",
    "for train, test in kfold.split(features, y):\n",
    "    # fit the lasso\n",
    "    pipe.fit(x[train], y[train])\n",
    "    # get the coefficients\n",
    "    coef = pipe.named_steps['lasso'].coef_\n",
    "    # get the features that are not zero\n",
    "    features_selected = features.columns[coef[0] != 0]\n",
    "    print(f'The number of features selected is: {len(features_selected)}')\n",
    "    # predict\n",
    "    prob_matrix[test] = pipe.predict_proba(x[test])\n",
    "\n",
    "\n",
    "# show results\n",
    "# get roc curve\n",
    "fpr, tpr, thresholds = roc_curve(y, prob_matrix[:, 1])\n",
    "# compute auc\n",
    "auc = roc_auc_score(y, prob_matrix[:, 1])\n",
    "# plot roc curve\n",
    "plt.plot(fpr, tpr, label=f'auc = {auc:.2f}')\n",
    "plt.xlabel('False Positive Rate')\n",
    "plt.ylabel('True Positive Rate')\n",
    "plt.legend()\n",
    "# get optimal threshold\n",
    "op_threshold = best_threshold(fpr, tpr, thresholds)\n",
    "\n",
    "# define threshold\n",
    "threshold = threshold\n",
    "# compute metrics\n",
    "# accuracy\n",
    "accuracy = accuracy_score(info.labels_list(label), prob_matrix[:, 1] > threshold)\n",
    "print(f'Accuracy: {accuracy}')\n",
    "# F1 score\n",
    "f1 = f1_score(info.labels_list(label), prob_matrix[:, 1] > threshold)\n",
    "print(f'F1 score: {f1}')\n",
    "# precision\n",
    "precision = precision_score(info.labels_list(label), prob_matrix[:, 1] > threshold)\n",
    "print(f'Precision: {precision}')\n",
    "# sensitivity (recall, TPR)\n",
    "sensitivity = recall_score(info.labels_list(label), prob_matrix[:, 1] > threshold)\n",
    "print(f'Sensitivity: {sensitivity}')\n",
    "# specificity (TNR)\n",
    "specificity = recall_score(info.labels_list(label), prob_matrix[:, 1] > threshold, pos_label=0)\n",
    "print(f'Specificity: {specificity}')\n",
    "# MCC\n",
    "mcc = matthews_corrcoef(info.labels_list(label), prob_matrix[:, 1] > threshold)\n",
    "print(f'MCC: {mcc}')\n",
    "\n",
    "# plot prediciton values, with their corresponding labels in color\n",
    "plt.figure(figsize=(7,5))\n",
    "plt.scatter(range(len(info.labels_list(label))), prob_matrix[:, 1],c=info.labels_list(label))\n",
    "# plot threshold line\n",
    "plt.plot([0, len(info.labels_list(label))], [threshold, threshold], 'k--')"
   ]
  }
 ],
 "metadata": {
  "kernelspec": {
   "display_name": "avfu",
   "language": "python",
   "name": "python3"
  },
  "language_info": {
   "codemirror_mode": {
    "name": "ipython",
    "version": 3
   },
   "file_extension": ".py",
   "mimetype": "text/x-python",
   "name": "python",
   "nbconvert_exporter": "python",
   "pygments_lexer": "ipython3",
   "version": "3.10.9"
  },
  "orig_nbformat": 4
 },
 "nbformat": 4,
 "nbformat_minor": 2
}
