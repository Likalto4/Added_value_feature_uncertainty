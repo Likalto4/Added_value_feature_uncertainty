{
 "cells": [
  {
   "cell_type": "code",
   "execution_count": 1,
   "metadata": {},
   "outputs": [],
   "source": [
    "#Add repo path to the system path\n",
    "from pathlib import Path\n",
    "import os, sys\n",
    "repo_path= Path.cwd().resolve()\n",
    "while '.gitignore' not in os.listdir(repo_path): # while not in the root of the repo\n",
    "    repo_path = repo_path.parent #go up one level\n",
    "sys.path.insert(0,str(repo_path)) if str(repo_path) not in sys.path else None"
   ]
  },
  {
   "cell_type": "code",
   "execution_count": 2,
   "metadata": {},
   "outputs": [],
   "source": [
    "import pandas as pd\n",
    "import numpy as np\n",
    "import matplotlib.pyplot as plt"
   ]
  },
  {
   "cell_type": "markdown",
   "metadata": {},
   "source": [
    "# Pure features"
   ]
  },
  {
   "cell_type": "markdown",
   "metadata": {},
   "source": [
    "The pure extracted features are 33 patient/feature vectors coming from 6 feature instances. (A feature instance in this case is 3 rad x 2 times=6 instances)<br>\n",
    "\n",
    "- 1st approximation: The 6 instances are averaged into one (The \"unique\" radiologist vector).<br>\n",
    "    - This single vector has a length of m=features"
   ]
  },
  {
   "cell_type": "markdown",
   "metadata": {},
   "source": [
    "As we removed the Martha 2 segmentation (being a clear outlier) the instances are now only 5, contained in the pure feature directory.<br>"
   ]
  },
  {
   "cell_type": "code",
   "execution_count": 3,
   "metadata": {},
   "outputs": [],
   "source": [
    "pure_X_dir = repo_path / 'data/features/pure'\n",
    "# get all csv files in the directory\n",
    "all_df = None\n",
    "for rad in ['L', 'M', 'V']:\n",
    "    for time in ['1', '2']:\n",
    "        ind_path = pure_X_dir / f'features_{rad}_{time}_G.csv'\n",
    "        # if the file does not exist, skip\n",
    "        if not ind_path.exists():\n",
    "            continue\n",
    "        df = pd.read_csv(ind_path)\n",
    "        df = df.drop(columns=['Unnamed: 0'])\n",
    "        # add col;umn with the string of the file name\n",
    "        df['file'] = rad + time\n",
    "        # concat to the main df\n",
    "        all_df = pd.concat([all_df, df], axis=0) if all_df is not None else df"
   ]
  },
  {
   "cell_type": "markdown",
   "metadata": {},
   "source": [
    "Visual analysis"
   ]
  },
  {
   "cell_type": "code",
   "execution_count": 4,
   "metadata": {},
   "outputs": [],
   "source": [
    "# keys = all_df.keys()\n",
    "# key = keys[10] # which feature to plot\n",
    "\n",
    "# for key in keys:\n",
    "#     plt.figure(figsize=(10,10))\n",
    "#     for pat_num in all_df['pat_num'].unique()[0:2]:\n",
    "#     # pat_num = 2\n",
    "#         pat_df = all_df[all_df['pat_num']==pat_num]\n",
    "#         plt.title(key)\n",
    "#         # change color for each point\n",
    "#         for i in range(len(pat_df)):\n",
    "#             plt.plot(pat_df['pat_num'].iloc[i], pat_df[key].iloc[i], 'o', color=plt.cm.tab10(i/len(pat_df)))"
   ]
  },
  {
   "cell_type": "markdown",
   "metadata": {},
   "source": [
    "All features are averaged into a single vector"
   ]
  },
  {
   "cell_type": "code",
   "execution_count": 5,
   "metadata": {},
   "outputs": [],
   "source": [
    "# all_df averaged by pat_num\n",
    "feat_vector = all_df.groupby(by='pat_num', axis=0).mean(numeric_only=True)\n",
    "# save as  csv\n",
    "feat_vector.to_csv(repo_path / 'data/features/feat_vector.csv')"
   ]
  }
 ],
 "metadata": {
  "kernelspec": {
   "display_name": "avfu",
   "language": "python",
   "name": "python3"
  },
  "language_info": {
   "codemirror_mode": {
    "name": "ipython",
    "version": 3
   },
   "file_extension": ".py",
   "mimetype": "text/x-python",
   "name": "python",
   "nbconvert_exporter": "python",
   "pygments_lexer": "ipython3",
   "version": "3.10.9"
  },
  "orig_nbformat": 4
 },
 "nbformat": 4,
 "nbformat_minor": 2
}
